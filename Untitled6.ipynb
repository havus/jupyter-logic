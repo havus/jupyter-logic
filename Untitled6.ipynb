{
 "cells": [
  {
   "cell_type": "code",
   "execution_count": 1,
   "metadata": {},
   "outputs": [],
   "source": [
    "def crange(x, y):\n",
    "    return range(x, y + 1)\n",
    "def printnln(x):\n",
    "    print(x, end=\" \")\n",
    "def total(i):\n",
    "    return int(i*(i+1)/2)"
   ]
  },
  {
   "cell_type": "code",
   "execution_count": 2,
   "metadata": {},
   "outputs": [
    {
     "name": "stdout",
     "output_type": "stream",
     "text": [
      "* \n",
      "  * * \n",
      "  * * \n",
      "      * * * \n",
      "      * * * \n",
      "      * * * \n",
      "            * * * * \n",
      "            * * * * \n",
      "            * * * * \n",
      "            * * * * \n"
     ]
    }
   ],
   "source": [
    "for y in crange(1,4):\n",
    "    for x in crange(1,y):\n",
    "        for x in crange(0,total(y-1)-1):\n",
    "            printnln(\" \")\n",
    "        for x in crange(1,y):\n",
    "            printnln(\"*\")\n",
    "        print()"
   ]
  },
  {
   "cell_type": "code",
   "execution_count": 3,
   "metadata": {},
   "outputs": [
    {
     "name": "stdout",
     "output_type": "stream",
     "text": [
      "                  * \n",
      "              * * \n",
      "              * * \n",
      "        * * * \n",
      "        * * * \n",
      "        * * * \n",
      "* * * * \n",
      "* * * * \n",
      "* * * * \n",
      "* * * * \n"
     ]
    }
   ],
   "source": [
    "for y in crange(1, 4):\n",
    "    for x in crange(1, y):\n",
    "        for x in crange(0, total(4) -total(y) -1):\n",
    "            printnln(\" \")\n",
    "        for x in crange(1, y):\n",
    "            printnln(\"*\")\n",
    "        print()"
   ]
  },
  {
   "cell_type": "code",
   "execution_count": null,
   "metadata": {},
   "outputs": [],
   "source": []
  }
 ],
 "metadata": {
  "kernelspec": {
   "display_name": "Python 3",
   "language": "python",
   "name": "python3"
  },
  "language_info": {
   "codemirror_mode": {
    "name": "ipython",
    "version": 3
   },
   "file_extension": ".py",
   "mimetype": "text/x-python",
   "name": "python",
   "nbconvert_exporter": "python",
   "pygments_lexer": "ipython3",
   "version": "3.6.5"
  }
 },
 "nbformat": 4,
 "nbformat_minor": 2
}
