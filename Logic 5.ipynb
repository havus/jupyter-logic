{
 "cells": [
  {
   "cell_type": "code",
   "execution_count": 2,
   "metadata": {},
   "outputs": [],
   "source": [
    "def total(x):\n",
    "    return x*(x+1)//2\n",
    "def printnln(x):\n",
    "    print(x, end=\" \")\n",
    "def crange(x, y):\n",
    "    return range(x, y+ 1)\n",
    "def pbound(x):\n",
    "    return x -1\n",
    "#total 1 : 1\n",
    "#total 2 : 3\n",
    "#total 3 : 6\n",
    "#total 4 : 10\n",
    "#total 5 : 15\n",
    "def totalpyramid(x):\n",
    "    return x * x\n",
    "def ganjil(x):\n",
    "    return x *2 -1"
   ]
  },
  {
   "cell_type": "code",
   "execution_count": 3,
   "metadata": {},
   "outputs": [
    {
     "name": "stdout",
     "output_type": "stream",
     "text": [
      "_ _ _ _ _ _ _ _ _ 1 \n",
      "_ _ _ _ _ _ _ 1 2 \n",
      "_ _ _ _ _ _ _ 3 4 \n",
      "_ _ _ _ 1 2 3 \n",
      "_ _ _ _ 4 5 6 \n",
      "_ _ _ _ 7 8 9 \n",
      "1 2 3 4 \n",
      "5 6 7 8 \n",
      "9 10 11 12 \n",
      "13 14 15 16 \n"
     ]
    }
   ],
   "source": [
    "for y in crange(1, 4):\n",
    "    for x in crange(1, y):\n",
    "        for s in crange(1, total(4) -total(y)):\n",
    "            printnln(\"_\")\n",
    "        for z in crange(1, y):\n",
    "            n = z + ((x-1) *y)\n",
    "            printnln(n)\n",
    "        print()"
   ]
  },
  {
   "cell_type": "code",
   "execution_count": 61,
   "metadata": {
    "scrolled": false
   },
   "outputs": [
    {
     "name": "stdout",
     "output_type": "stream",
     "text": [
      "* \n",
      "_ * * \n",
      "_ * * \n",
      "_ _ _ * * * \n",
      "_ _ _ * * * \n",
      "_ _ _ * * * \n",
      "_ _ _ _ _ _ * * * * \n",
      "_ _ _ _ _ _ * * * * \n",
      "_ _ _ _ _ _ * * * * \n",
      "_ _ _ _ _ _ * * * * \n"
     ]
    }
   ],
   "source": [
    "for y in crange(1, 4):\n",
    "    for x in crange(1, y):\n",
    "        for s in crange(1, total(y-1)):\n",
    "            printnln(\"_\")\n",
    "        for z in crange(1, y):\n",
    "            printnln(\"*\")\n",
    "        print()"
   ]
  },
  {
   "cell_type": "code",
   "execution_count": 62,
   "metadata": {},
   "outputs": [
    {
     "name": "stdout",
     "output_type": "stream",
     "text": [
      "_ _ _ _ _ _ _ _ _ * \n",
      "_ _ _ _ _ _ _ * * \n",
      "_ _ _ _ _ _ _ * * \n",
      "_ _ _ _ * * * \n",
      "_ _ _ _ * * * \n",
      "_ _ _ _ * * * \n",
      "* * * * \n",
      "* * * * \n",
      "* * * * \n",
      "* * * * \n"
     ]
    }
   ],
   "source": [
    "for y in crange(1, 4):\n",
    "    for x in crange(1, y):\n",
    "        for s in range(0, total(4) -total(y)):\n",
    "            printnln(\"_\")\n",
    "        for z in crange(1, y):\n",
    "            printnln(\"*\")\n",
    "        print()"
   ]
  },
  {
   "cell_type": "code",
   "execution_count": 63,
   "metadata": {},
   "outputs": [
    {
     "name": "stdout",
     "output_type": "stream",
     "text": [
      "* \n",
      "_ # * \n",
      "_ * * * \n",
      "_ _ _ _ # # * \n",
      "_ _ _ _ # * * * \n",
      "_ _ _ _ * * * * * \n",
      "_ _ _ _ _ _ _ _ _ # # # * \n",
      "_ _ _ _ _ _ _ _ _ # # * * * \n",
      "_ _ _ _ _ _ _ _ _ # * * * * * \n",
      "_ _ _ _ _ _ _ _ _ * * * * * * * \n"
     ]
    }
   ],
   "source": [
    "for y in crange(1, 4):\n",
    "    for x in crange(1, y):\n",
    "        for s in crange(1, totalpyramid(y) -ganjil(y)):\n",
    "            printnln(\"_\")\n",
    "        for s in crange(1, y -x):\n",
    "            printnln(\"#\")\n",
    "        for z in crange(1, ganjil(x)):\n",
    "            printnln(\"*\")\n",
    "        print()"
   ]
  },
  {
   "cell_type": "code",
   "execution_count": 64,
   "metadata": {},
   "outputs": [
    {
     "name": "stdout",
     "output_type": "stream",
     "text": [
      "_ _ _ _ _ _ _ _ _ _ _ _ _ _ _ * \n",
      "_ _ _ _ _ _ _ _ _ _ _ _ # * \n",
      "_ _ _ _ _ _ _ _ _ _ _ _ * * * \n",
      "_ _ _ _ _ _ _ # # * \n",
      "_ _ _ _ _ _ _ # * * * \n",
      "_ _ _ _ _ _ _ * * * * * \n",
      "# # # * \n",
      "# # * * * \n",
      "# * * * * * \n",
      "* * * * * * * \n"
     ]
    }
   ],
   "source": [
    "for y in crange(1, 4):\n",
    "    for x in crange(1, y):\n",
    "        for s in crange(1, totalpyramid(4) -totalpyramid(y)):\n",
    "            printnln(\"_\")\n",
    "        for s in crange(1, y -x):\n",
    "            printnln(\"#\")\n",
    "        for z in crange(1, ganjil(x)):\n",
    "            printnln(\"*\")\n",
    "        print()"
   ]
  },
  {
   "cell_type": "code",
   "execution_count": 65,
   "metadata": {},
   "outputs": [
    {
     "name": "stdout",
     "output_type": "stream",
     "text": [
      "* \n",
      "_ * * * \n",
      "_ # * \n",
      "_ _ _ _ * * * * * \n",
      "_ _ _ _ # * * * \n",
      "_ _ _ _ # # * \n",
      "_ _ _ _ _ _ _ _ _ * * * * * * * \n",
      "_ _ _ _ _ _ _ _ _ # * * * * * \n",
      "_ _ _ _ _ _ _ _ _ # # * * * \n",
      "_ _ _ _ _ _ _ _ _ # # # * \n"
     ]
    }
   ],
   "source": [
    "for y in crange(1, 4):\n",
    "    for x in reversed(crange(1, y)):\n",
    "        for s in crange(1, totalpyramid(y) -ganjil(y)):\n",
    "            printnln(\"_\")\n",
    "        for s in crange(1, y -x):\n",
    "            printnln(\"#\")\n",
    "        for z in crange(1, ganjil(x)):\n",
    "            printnln(\"*\")\n",
    "        print()"
   ]
  },
  {
   "cell_type": "code",
   "execution_count": 66,
   "metadata": {
    "scrolled": true
   },
   "outputs": [
    {
     "name": "stdout",
     "output_type": "stream",
     "text": [
      "1 \n",
      "_ 1 2 \n",
      "_ 3 4 \n",
      "_ _ _ 1 2 3 \n",
      "_ _ _ 4 5 6 \n",
      "_ _ _ 7 8 9 \n",
      "_ _ _ _ _ _ 1 2 3 4 \n",
      "_ _ _ _ _ _ 5 6 7 8 \n",
      "_ _ _ _ _ _ 9 10 11 12 \n",
      "_ _ _ _ _ _ 13 14 15 16 \n"
     ]
    }
   ],
   "source": [
    "for y in crange(1, 4):\n",
    "    for x in crange(1, y):\n",
    "        for s in crange(1, total(y-1)):\n",
    "            printnln(\"_\")\n",
    "        for z in crange(1, y):\n",
    "            n = z +((x -1) *y)\n",
    "            printnln(n)\n",
    "        print()"
   ]
  },
  {
   "cell_type": "code",
   "execution_count": 82,
   "metadata": {
    "scrolled": true
   },
   "outputs": [
    {
     "name": "stdout",
     "output_type": "stream",
     "text": [
      "1 \n",
      "_ 1 2 \n",
      "_ 3 4 \n",
      "_ _ _ 1 2 3 \n",
      "_ _ _ 4 5 6 \n",
      "_ _ _ 7 8 9 \n",
      "_ _ _ _ _ _ 1 2 3 4 \n",
      "_ _ _ _ _ _ 5 6 7 8 \n",
      "_ _ _ _ _ _ 9 10 11 12 \n",
      "_ _ _ _ _ _ 13 14 15 16 \n"
     ]
    }
   ],
   "source": [
    "for y in crange(1, 4):\n",
    "    for x in crange(1, y):\n",
    "        for s in crange(1, total(y-1)):\n",
    "            printnln(\"_\")\n",
    "        for z in crange(1, y):\n",
    "            n = z +(x -1) *y\n",
    "            printnln(n)\n",
    "        print()"
   ]
  },
  {
   "cell_type": "code",
   "execution_count": 80,
   "metadata": {},
   "outputs": [
    {
     "name": "stdout",
     "output_type": "stream",
     "text": [
      "_ _ _ _ _ _ _ _ _ 1 \n",
      "_ _ _ _ _ _ _ 1 2 \n",
      "_ _ _ _ _ _ _ 3 4 \n",
      "_ _ _ _ 1 2 3 \n",
      "_ _ _ _ 4 5 6 \n",
      "_ _ _ _ 7 8 9 \n",
      "1 2 3 4 \n",
      "5 6 7 8 \n",
      "9 10 11 12 \n",
      "13 14 15 16 \n"
     ]
    }
   ],
   "source": [
    "for y in crange(1, 4):\n",
    "    for x in crange(1, y):\n",
    "        for s in crange(1, total(4) -total(y)):\n",
    "            printnln(\"_\")\n",
    "        for z in crange(1, y):\n",
    "            n = z +(x-1) *y\n",
    "            printnln(n)\n",
    "        print()"
   ]
  },
  {
   "cell_type": "code",
   "execution_count": 5,
   "metadata": {},
   "outputs": [
    {
     "name": "stdout",
     "output_type": "stream",
     "text": [
      "_ _ _ _ 1 \n",
      "_ _ _ _ 1 \n",
      "_ _ _ 2 3 4 \n",
      "_ _ _ _ 1 \n",
      "_ _ _ 3 5 7 \n",
      "_ _ 9 11 13 15 17 \n",
      "_ _ _ _ 1 \n",
      "_ _ _ 1 2 3 \n",
      "_ _ 5 8 13 21 34 \n",
      "_ 55 89 144 233 377 610 987 \n"
     ]
    }
   ],
   "source": [
    "def fib(a):\n",
    "    if a<3:\n",
    "        return 1\n",
    "    else:\n",
    "        return fib(a-1)+fib(a-2)\n",
    "\n",
    "#c t p // y x s \n",
    "for y in crange(1,4):\n",
    "    c = 0\n",
    "    for t in crange(1,y):\n",
    "        p = ganjil(t)\n",
    "\n",
    "        t = 4-p//2\n",
    "        for s in crange(1,t):\n",
    "            printnln('_')\n",
    "            \n",
    "        for x in crange(1,p):\n",
    "            #c+=1 ==  c = c+1\n",
    "            c =c+ 1\n",
    "            if y==3:\n",
    "                printnln(ganjil(c))\n",
    "            elif y==4:\n",
    "                printnln(fib(c))\n",
    "            else:\n",
    "                printnln(c)\n",
    "        print()"
   ]
  },
  {
   "cell_type": "code",
   "execution_count": 12,
   "metadata": {},
   "outputs": [
    {
     "name": "stdout",
     "output_type": "stream",
     "text": [
      "_ _ _ 1 \n",
      "_ _ _ 1 \n",
      "_ _ 2 3 4 \n",
      "_ _ _ 1 \n",
      "_ _ 3 5 7 \n",
      "_ 9 11 13 15 17 \n",
      "_ _ _ 1 \n",
      "_ _ 1 2 3 \n",
      "_ 5 8 13 21 34 \n",
      "55 89 144 233 377 610 987 \n"
     ]
    }
   ],
   "source": [
    "for y in crange(1, 4):\n",
    "    g = 0\n",
    "    for x in crange(1, y):\n",
    "        n = 4 -ganjil(x)//2\n",
    "        for s in crange(1, n-1):\n",
    "            printnln(\"_\")\n",
    "        for z in crange(1, ganjil(x)):\n",
    "            g += 1\n",
    "            if y == 3:\n",
    "                printnln(ganjil(g))\n",
    "            elif y == 4:\n",
    "                printnln(fib(g))\n",
    "            else:\n",
    "                printnln(g)\n",
    "        print()"
   ]
  },
  {
   "cell_type": "code",
   "execution_count": null,
   "metadata": {},
   "outputs": [],
   "source": []
  }
 ],
 "metadata": {
  "kernelspec": {
   "display_name": "Python 3",
   "language": "python",
   "name": "python3"
  },
  "language_info": {
   "codemirror_mode": {
    "name": "ipython",
    "version": 3
   },
   "file_extension": ".py",
   "mimetype": "text/x-python",
   "name": "python",
   "nbconvert_exporter": "python",
   "pygments_lexer": "ipython3",
   "version": "3.6.6"
  }
 },
 "nbformat": 4,
 "nbformat_minor": 2
}
