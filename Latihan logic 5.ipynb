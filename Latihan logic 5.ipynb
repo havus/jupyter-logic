{
 "cells": [
  {
   "cell_type": "code",
   "execution_count": 33,
   "metadata": {},
   "outputs": [],
   "source": [
    "def printnln(x):\n",
    "    print(x, end=\" \")\n",
    "def crange(x, y):\n",
    "    return range(x, y +1)\n",
    "def total(x):\n",
    "    return x *(x +1) //2\n",
    "def totalpyramid(x):\n",
    "    return x *x\n",
    "def ganjil(x):\n",
    "    return x *2 -1\n",
    "#total 1 : 1\n",
    "#total 2 : 3\n",
    "#total 3 : 6\n",
    "#total 4 : 10\n",
    "#total 5 : 15"
   ]
  },
  {
   "cell_type": "code",
   "execution_count": 29,
   "metadata": {},
   "outputs": [
    {
     "name": "stdout",
     "output_type": "stream",
     "text": [
      "* \n",
      "_ * * \n",
      "_ * * \n",
      "_ _ _ * * * \n",
      "_ _ _ * * * \n",
      "_ _ _ * * * \n",
      "_ _ _ _ _ _ * * * * \n",
      "_ _ _ _ _ _ * * * * \n",
      "_ _ _ _ _ _ * * * * \n",
      "_ _ _ _ _ _ * * * * \n"
     ]
    }
   ],
   "source": [
    "for y in crange(1, 4):\n",
    "    for x in crange(1, y):\n",
    "        for s in range(0, total(y-1)):\n",
    "            printnln(\"_\")\n",
    "        for z in crange(1, y):\n",
    "            printnln(\"*\")\n",
    "        print()"
   ]
  },
  {
   "cell_type": "code",
   "execution_count": 27,
   "metadata": {},
   "outputs": [
    {
     "name": "stdout",
     "output_type": "stream",
     "text": [
      "_ _ _ _ _ _ _ _ _ * \n",
      "_ _ _ _ _ _ _ * * \n",
      "_ _ _ _ _ _ _ * * \n",
      "_ _ _ _ * * * \n",
      "_ _ _ _ * * * \n",
      "_ _ _ _ * * * \n",
      "* * * * \n",
      "* * * * \n",
      "* * * * \n",
      "* * * * \n"
     ]
    }
   ],
   "source": [
    "for y in crange(1, 4):\n",
    "    for x in crange(1, y):\n",
    "        for s in range(0, total(4)-total(y)):\n",
    "            printnln(\"_\")\n",
    "        for z in crange(1, y):\n",
    "            printnln(\"*\")\n",
    "        print()"
   ]
  },
  {
   "cell_type": "code",
   "execution_count": 42,
   "metadata": {},
   "outputs": [
    {
     "name": "stdout",
     "output_type": "stream",
     "text": [
      "* \n",
      "_ # * \n",
      "_ * * * \n",
      "_ _ _ _ # # * \n",
      "_ _ _ _ # * * * \n",
      "_ _ _ _ * * * * * \n",
      "_ _ _ _ _ _ _ _ _ # # # * \n",
      "_ _ _ _ _ _ _ _ _ # # * * * \n",
      "_ _ _ _ _ _ _ _ _ # * * * * * \n",
      "_ _ _ _ _ _ _ _ _ * * * * * * * \n"
     ]
    }
   ],
   "source": [
    "for y in crange(1, 4):\n",
    "    for x in crange(1, y):\n",
    "        for s in range(0, totalpyramid(y) -ganjil(y)):\n",
    "            printnln(\"_\")\n",
    "        for s in crange(0, y -x -1):\n",
    "            printnln(\"#\")\n",
    "        for z in crange(1, ganjil(x)):\n",
    "            printnln(\"*\")\n",
    "        print()"
   ]
  },
  {
   "cell_type": "code",
   "execution_count": 43,
   "metadata": {},
   "outputs": [
    {
     "name": "stdout",
     "output_type": "stream",
     "text": [
      "* \n",
      "_ # * \n",
      "_ * * * \n",
      "_ _ _ _ # # * \n",
      "_ _ _ _ # * * * \n",
      "_ _ _ _ * * * * * \n",
      "_ _ _ _ _ _ _ _ _ # # # * \n",
      "_ _ _ _ _ _ _ _ _ # # * * * \n",
      "_ _ _ _ _ _ _ _ _ # * * * * * \n",
      "_ _ _ _ _ _ _ _ _ * * * * * * * \n"
     ]
    }
   ],
   "source": [
    "for y in crange(1, 4):\n",
    "    for x in crange(1, y):\n",
    "        for s in range(0, totalpyramid(y) -ganjil(y)):\n",
    "            printnln(\"_\")\n",
    "        for s in crange(0, y -x -1):\n",
    "            printnln(\"#\")\n",
    "        for z in crange(1, ganjil(x)):\n",
    "            printnln(\"*\")\n",
    "        print()"
   ]
  },
  {
   "cell_type": "code",
   "execution_count": null,
   "metadata": {},
   "outputs": [],
   "source": []
  }
 ],
 "metadata": {
  "kernelspec": {
   "display_name": "Python 3",
   "language": "python",
   "name": "python3"
  },
  "language_info": {
   "codemirror_mode": {
    "name": "ipython",
    "version": 3
   },
   "file_extension": ".py",
   "mimetype": "text/x-python",
   "name": "python",
   "nbconvert_exporter": "python",
   "pygments_lexer": "ipython3",
   "version": "3.6.5"
  }
 },
 "nbformat": 4,
 "nbformat_minor": 2
}
