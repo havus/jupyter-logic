{
 "cells": [
  {
   "cell_type": "markdown",
   "metadata": {},
   "source": [
    "LOGIC 1"
   ]
  },
  {
   "cell_type": "code",
   "execution_count": 16,
   "metadata": {},
   "outputs": [
    {
     "name": "stdout",
     "output_type": "stream",
     "text": [
      "* * * * * * * * * \n",
      "* * * * * * * * * \n",
      "* * * * * * * * * \n",
      "* * * * * * * * * \n",
      "* * * * * * * * * \n",
      "* * * * * * * * * \n",
      "* * * * * * * * * \n",
      "* * * * * * * * * \n",
      "* * * * * * * * * \n",
      "\n"
     ]
    }
   ],
   "source": [
    "//Dasar Logic\n",
    "var r = ''\n",
    "for (var y = 0; y < 9; y++) {\n",
    "    for (var x = 0; x < 9; x++){\n",
    "        r += '* '\n",
    "    }\n",
    "    r += '\\n'\n",
    "}\n",
    "console.log(r)"
   ]
  },
  {
   "cell_type": "code",
   "execution_count": 37,
   "metadata": {},
   "outputs": [
    {
     "name": "stdout",
     "output_type": "stream",
     "text": [
      "* - - - - - - - - \n",
      "- * - - - - - - - \n",
      "- - * - - - - - - \n",
      "- - - * - - - - - \n",
      "- - - - * - - - - \n",
      "- - - - - * - - - \n",
      "- - - - - - * - - \n",
      "- - - - - - - * - \n",
      "- - - - - - - - * \n",
      "\n"
     ]
    }
   ],
   "source": [
    "// Soal 1/1\n",
    "\n",
    "var r = ''\n",
    "\n",
    "for (var y = 0; y < 9; y++) {\n",
    "    for (var x = 0; x < 9; x++) {\n",
    "        if (x == y) {\n",
    "            r += '* '\n",
    "        } else {\n",
    "            r += '- '\n",
    "        }\n",
    "    }\n",
    "    r += '\\n'\n",
    "}\n",
    "console.log(r)"
   ]
  },
  {
   "cell_type": "code",
   "execution_count": 12,
   "metadata": {},
   "outputs": [
    {
     "name": "stdout",
     "output_type": "stream",
     "text": [
      "- - - - - - - - * \n",
      "- - - - - - - * - \n",
      "- - - - - - * - - \n",
      "- - - - - * - - - \n",
      "- - - - * - - - - \n",
      "- - - * - - - - - \n",
      "- - * - - - - - - \n",
      "- * - - - - - - - \n",
      "* - - - - - - - - \n",
      "\n"
     ]
    }
   ],
   "source": [
    "var r = ''\n",
    "\n",
    "for (var y = 1; y <= 9; y++) {\n",
    "    for (var x = 1; x <= 9; x++) {\n",
    "        if (x == 10 - y) {\n",
    "            r += '* '\n",
    "        } else {\n",
    "            r += '- '\n",
    "        }\n",
    "    }\n",
    "    r += '\\n'\n",
    "}\n",
    "console.log(r)"
   ]
  },
  {
   "cell_type": "code",
   "execution_count": 42,
   "metadata": {},
   "outputs": [
    {
     "name": "stdout",
     "output_type": "stream",
     "text": [
      "* - - - - - - - * \n",
      "- * - - - - - * - \n",
      "- - * - - - * - - \n",
      "- - - * - * - - - \n",
      "- - - - * - - - - \n",
      "- - - * - * - - - \n",
      "- - * - - - * - - \n",
      "- * - - - - - * - \n",
      "* - - - - - - - * \n",
      "\n"
     ]
    }
   ],
   "source": [
    "// Soal 2/1\n",
    "\n",
    "var r = ''\n",
    "\n",
    "for (var y = 1; y <= 9; y++) {\n",
    "    for (var x = 1; x <= 9; x++) {\n",
    "        if (x == y || x == 10 - y) {\n",
    "            r += '* '\n",
    "        } else {\n",
    "            r += '- '\n",
    "        }\n",
    "    }\n",
    "    r += '\\n'\n",
    "}\n",
    "console.log(r)"
   ]
  },
  {
   "cell_type": "code",
   "execution_count": 45,
   "metadata": {},
   "outputs": [
    {
     "name": "stdout",
     "output_type": "stream",
     "text": [
      "* - - - * - - - * \n",
      "- * - - * - - * - \n",
      "- - * - * - * - - \n",
      "- - - * * * - - - \n",
      "* * * * * * * * * \n",
      "- - - * * * - - - \n",
      "- - * - * - * - - \n",
      "- * - - * - - * - \n",
      "* - - - * - - - * \n",
      "\n"
     ]
    }
   ],
   "source": [
    "// Soal 2/1\n",
    "\n",
    "var r = ''\n",
    "\n",
    "for (var y = 1; y <= 9; y++) {\n",
    "    for (var x = 1; x <= 9; x++) {\n",
    "        if (x == y || x == 10 - y || x == 5 || y == 5) {\n",
    "            r += '* '\n",
    "        } else {\n",
    "            r += '- '\n",
    "        }\n",
    "    }\n",
    "    r += '\\n'\n",
    "}\n",
    "console.log(r)"
   ]
  },
  {
   "cell_type": "code",
   "execution_count": 50,
   "metadata": {},
   "outputs": [
    {
     "name": "stdout",
     "output_type": "stream",
     "text": [
      "* - - - - - - - - \n",
      "* * - - - - - - - \n",
      "* * * - - - - - - \n",
      "* * * * - - - - - \n",
      "* * * * * - - - - \n",
      "* * * * * * - - - \n",
      "* * * * * * * - - \n",
      "* * * * * * * * - \n",
      "* * * * * * * * * \n",
      "\n"
     ]
    }
   ],
   "source": [
    "var r = ''\n",
    "\n",
    "for (var y = 1; y <= 9; y++) {\n",
    "    for (var x = 1; x <= 9; x++) {\n",
    "        if (x <= y) {\n",
    "            r += '* '\n",
    "        } else {\n",
    "            r += '- '\n",
    "        }\n",
    "    }\n",
    "    r += '\\n'\n",
    "}\n",
    "console.log(r)"
   ]
  },
  {
   "cell_type": "code",
   "execution_count": 54,
   "metadata": {},
   "outputs": [
    {
     "name": "stdout",
     "output_type": "stream",
     "text": [
      "- - - - - - - - * \n",
      "- - - - - - - * * \n",
      "- - - - - - * * * \n",
      "- - - - - * * * * \n",
      "- - - - * * * * * \n",
      "- - - * * * * * * \n",
      "- - * * * * * * * \n",
      "- * * * * * * * * \n",
      "* * * * * * * * * \n",
      "\n"
     ]
    }
   ],
   "source": [
    "var r = ''\n",
    "\n",
    "for (var y = 1; y <= 9; y++) {\n",
    "    for (var x = 1; x <= 9; x++) {\n",
    "        if (x >= 10 - y) {\n",
    "            r += '* '\n",
    "        } else {\n",
    "            r += '- '\n",
    "        }\n",
    "    }\n",
    "    r += '\\n'\n",
    "}\n",
    "console.log(r)"
   ]
  },
  {
   "cell_type": "code",
   "execution_count": 6,
   "metadata": {},
   "outputs": [
    {
     "name": "stdout",
     "output_type": "stream",
     "text": [
      "* - - - - - - - * \n",
      "* * - - - - - * * \n",
      "* * * - - - * * * \n",
      "* * * * - * * * * \n",
      "* * * * * * * * * \n",
      "* * * * - * * * * \n",
      "* * * - - - * * * \n",
      "* * - - - - - * * \n",
      "* - - - - - - - * \n",
      "\n"
     ]
    }
   ],
   "source": [
    "var r = ''\n",
    "\n",
    "for (var y = 1; y <= 9; y++) {\n",
    "    for (var x = 1; x <= 9; x++) {\n",
    "        if (x <= y && x <= 10 - y || x >= y && x >= 10 - y) {\n",
    "            r += '* '\n",
    "        } else {\n",
    "            r += '- '\n",
    "        }\n",
    "    }\n",
    "    r += '\\n'\n",
    "}\n",
    "console.log(r)"
   ]
  },
  {
   "cell_type": "code",
   "execution_count": 10,
   "metadata": {},
   "outputs": [
    {
     "name": "stdout",
     "output_type": "stream",
     "text": [
      "* * * * * * * * * \n",
      "- * * * * * * * - \n",
      "- - * * * * * - - \n",
      "- - - * * * - - - \n",
      "- - - - * - - - - \n",
      "- - - * * * - - - \n",
      "- - * * * * * - - \n",
      "- * * * * * * * - \n",
      "* * * * * * * * * \n",
      "\n"
     ]
    }
   ],
   "source": [
    "var r = '';\n",
    "\n",
    "for (var y = 1; y <= 9; y++) {\n",
    "    for (var x = 1; x <= 9; x++) {\n",
    "        if (x <= y && x >= 10 - y || x >= y && x <= 10 - y) {\n",
    "            r += '* ';\n",
    "        } else {\n",
    "            r += '- ';\n",
    "        }\n",
    "    }\n",
    "    r += '\\n';\n",
    "}\n",
    "console.log(r);"
   ]
  },
  {
   "cell_type": "code",
   "execution_count": null,
   "metadata": {},
   "outputs": [],
   "source": []
  }
 ],
 "metadata": {
  "kernelspec": {
   "display_name": "Javascript (Node.js)",
   "language": "javascript",
   "name": "javascript"
  },
  "language_info": {
   "file_extension": ".js",
   "mimetype": "application/javascript",
   "name": "javascript",
   "version": "8.16.0"
  }
 },
 "nbformat": 4,
 "nbformat_minor": 2
}
