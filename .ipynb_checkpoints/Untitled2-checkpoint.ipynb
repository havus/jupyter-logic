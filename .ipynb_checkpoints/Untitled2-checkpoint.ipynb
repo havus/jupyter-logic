{
 "cells": [
  {
   "cell_type": "code",
   "execution_count": 2,
   "metadata": {},
   "outputs": [],
   "source": [
    "def ganjil(x):\n",
    "    return x * 2 - 1\n",
    "def genap(x):\n",
    "    return x * 2 - 2\n",
    "def printnln(x):\n",
    "    print(x, end=\" \")\n",
    "def crange(x, y):\n",
    "    return range(x, y + 1)\n",
    "def total(i):\n",
    "    return int(i*(i+1)/2)\n",
    "def totalPyramid(i): \n",
    "    return i * i\n",
    "def fib(x):\n",
    "    if x <= 2:\n",
    "        return 1\n",
    "    else:\n",
    "        return fib(x-1) + fib(x-2)\n",
    "def fpb(x, y):\n",
    "    if y == 0:\n",
    "        return x\n",
    "    else:\n",
    "        return fpb(y, x %y)\n",
    "def kpk(x, y):\n",
    "    return x * y // fpb(x, y)\n",
    "def pbound(x):\n",
    "    return x - 1"
   ]
  },
  {
   "cell_type": "code",
   "execution_count": 8,
   "metadata": {},
   "outputs": [
    {
     "name": "stdout",
     "output_type": "stream",
     "text": [
      "* \n",
      "    * \n",
      "  * * * \n",
      "            * \n",
      "          * * * \n",
      "        * * * * * \n",
      "                        * \n",
      "                      * * * \n",
      "                    * * * * * \n",
      "                  * * * * * * * \n"
     ]
    }
   ],
   "source": [
    "for j in crange(1,4):\n",
    "    for x in crange(1,j):\n",
    "        for s in crange(1,totalPyramid(j)-ganjil(j)):\n",
    "            printnln(' ')\n",
    "        for s in crange(0,j-x-1):\n",
    "            printnln(' ')\n",
    "        for s in crange(1, ganjil(x)):\n",
    "            printnln('*')\n",
    "        print()"
   ]
  },
  {
   "cell_type": "code",
   "execution_count": 11,
   "metadata": {},
   "outputs": [
    {
     "name": "stdout",
     "output_type": "stream",
     "text": [
      "_ _ _ _ 1 \n",
      "_ _ _ 1 2 3 \n",
      "_ _ 1 2 3 4 5 \n",
      "_ 1 2 3 4 5 6 7 \n",
      "1 2 3 4 5 6 7 8 9 \n"
     ]
    }
   ],
   "source": [
    "for y in crange(1, 5):\n",
    "    for x in crange(1, 5 - y):\n",
    "        printnln(\"_\")\n",
    "    for z in crange(1, ganjil(y)):\n",
    "        printnln(z)\n",
    "    print()"
   ]
  },
  {
   "cell_type": "code",
   "execution_count": 14,
   "metadata": {},
   "outputs": [
    {
     "name": "stdout",
     "output_type": "stream",
     "text": [
      "1 2 3 4 5 6 7 8 9 \n",
      "_ 1 2 3 4 5 6 7 \n",
      "_ _ 1 2 3 4 5 \n",
      "_ _ _ 1 2 3 \n",
      "_ _ _ _ 1 \n"
     ]
    }
   ],
   "source": [
    "for y in crange(1, 5):\n",
    "    for x in crange(1, y -1):\n",
    "        printnln(\"_\")\n",
    "    for z in crange(1, ganjil(abs(y -6))):\n",
    "        printnln(z)\n",
    "    print()"
   ]
  },
  {
   "cell_type": "code",
   "execution_count": 18,
   "metadata": {},
   "outputs": [
    {
     "name": "stdout",
     "output_type": "stream",
     "text": [
      "_ _ _ _ 1 \n",
      "_ _ _ 1 2 3 \n",
      "_ _ 1 2 3 4 5 \n",
      "_ 1 2 3 4 5 6 7 \n",
      "1 2 3 4 5 6 7 8 9 \n",
      "_ 1 2 3 4 5 6 7 \n",
      "_ _ 1 2 3 4 5 \n",
      "_ _ _ 1 2 3 \n",
      "_ _ _ _ 1 \n"
     ]
    }
   ],
   "source": [
    "for y in crange(-4, 4):\n",
    "    for x in crange(1, abs(y)):\n",
    "        printnln(\"_\")\n",
    "    for z in crange(1, ganjil(5-abs(y))):\n",
    "        printnln(z)\n",
    "    print()"
   ]
  },
  {
   "cell_type": "code",
   "execution_count": 20,
   "metadata": {},
   "outputs": [
    {
     "name": "stdout",
     "output_type": "stream",
     "text": [
      "-3 -2 -1 0 1 2 3 "
     ]
    }
   ],
   "source": [
    "n = pBound(y)\n",
    "for z in crange(-n, n):\n",
    "    printnln(z)"
   ]
  },
  {
   "cell_type": "code",
   "execution_count": 34,
   "metadata": {},
   "outputs": [
    {
     "name": "stdout",
     "output_type": "stream",
     "text": [
      "_ _ _ _ 1 \n",
      "_ _ _ 1 3 1 \n",
      "_ _ 1 3 5 3 1 \n",
      "_ 1 3 5 7 5 3 1 \n",
      "1 3 5 7 9 7 5 3 1 \n"
     ]
    }
   ],
   "source": [
    "for y in crange(1, 5):\n",
    "    for x  in crange(1, 5 -y):\n",
    "        printnln(\"_\")\n",
    "    n = pBound(y)\n",
    "    for z in crange(-n, n):\n",
    "        r = ganjil(y -abs(z))\n",
    "        printnln(r)\n",
    "    print()"
   ]
  },
  {
   "cell_type": "code",
   "execution_count": 36,
   "metadata": {},
   "outputs": [
    {
     "name": "stdout",
     "output_type": "stream",
     "text": [
      "1 3 5 7 9 7 5 3 1 \n",
      "_ 1 3 5 7 5 3 1 \n",
      "_ _ 1 3 5 3 1 \n",
      "_ _ _ 1 3 1 \n",
      "_ _ _ _ 1 \n"
     ]
    }
   ],
   "source": [
    "for y in crange(1, 5):\n",
    "    for x in crange(1, y -1):\n",
    "        printnln(\"_\")\n",
    "    t = 6 - y\n",
    "    n = pBound(t)\n",
    "    for z in crange(-n, n):\n",
    "        r = ganjil(t -abs(z))\n",
    "        printnln(r)\n",
    "    print()"
   ]
  },
  {
   "cell_type": "code",
   "execution_count": 110,
   "metadata": {},
   "outputs": [
    {
     "name": "stdout",
     "output_type": "stream",
     "text": [
      "_ _ _ _ 1 _ _ _ _ _ _ _ 1 _ _ _ _ \n",
      "_ _ _ 1 3 1 _ _ _ _ _ 1 3 1 _ _ _ \n",
      "_ _ 1 3 5 3 1 _ _ _ 1 3 5 3 1 _ _ \n",
      "_ 1 3 5 7 5 3 1 _ 1 3 5 7 5 3 1 _ \n",
      "1 3 5 7 9 7 5 3 1 3 5 7 9 7 5 3 1 \n",
      "_ 1 3 5 7 5 3 1 _ 1 3 5 7 5 3 1 _ \n",
      "_ _ 1 3 5 3 1 _ _ _ 1 3 5 3 1 _ _ \n",
      "_ _ _ 1 3 1 _ _ _ _ _ 1 3 1 _ _ _ \n",
      "_ _ _ _ 1 _ _ _ _ _ _ _ 1 _ _ _ _ \n"
     ]
    }
   ],
   "source": [
    "for y in crange(-4, 4):\n",
    "    for x in range(2):\n",
    "        for s in crange(1, abs(y)):\n",
    "            if x > 0 and s == 1: continue\n",
    "            printnln(\"_\")\n",
    "        t = 5 - abs(y)\n",
    "        n = pbound(t)\n",
    "        for z in crange(-n, n):\n",
    "            if x > 0 and z == -4: continue\n",
    "            r = ganjil(t -abs(z))\n",
    "            printnln(r)\n",
    "        for s in crange(1, abs(y)):\n",
    "            printnln(\"_\")\n",
    "    print()"
   ]
  },
  {
   "cell_type": "code",
   "execution_count": 180,
   "metadata": {},
   "outputs": [
    {
     "name": "stdout",
     "output_type": "stream",
     "text": [
      "_ _ _ _ 1 1 2 3 4 5 6 7 8 9 _ _ _ _ _ _ _ 1 2 3 4 5 6 7 8 9 _ _ _ _ \n",
      "_ _ _ 1 2 3 1 2 3 4 5 6 7 8 9 _ _ _ _ _ 1 2 3 2 3 4 5 6 7 8 9 _ _ _ \n",
      "_ _ 1 2 3 4 5 1 2 3 4 5 6 7 8 9 _ _ _ 1 2 3 4 5 2 3 4 5 6 7 8 9 _ _ \n",
      "_ 1 2 3 4 5 6 7 1 2 3 4 5 6 7 8 9 _ 1 2 3 4 5 6 7 2 3 4 5 6 7 8 9 _ \n",
      "1 2 3 4 5 6 7 8 9 1 2 3 4 5 6 7 8 9 2 3 4 5 6 7 8 9 \n",
      "_ 1 2 3 4 5 6 7 1 2 3 4 5 6 7 8 9 _ 1 2 3 4 5 6 7 2 3 4 5 6 7 8 9 _ \n",
      "_ _ 1 2 3 4 5 1 2 3 4 5 6 7 8 9 _ _ _ 1 2 3 4 5 2 3 4 5 6 7 8 9 _ _ \n",
      "_ _ _ 1 2 3 1 2 3 4 5 6 7 8 9 _ _ _ _ _ 1 2 3 2 3 4 5 6 7 8 9 _ _ _ \n",
      "_ _ _ _ 1 1 2 3 4 5 6 7 8 9 _ _ _ _ _ _ _ 1 2 3 4 5 6 7 8 9 _ _ _ _ \n"
     ]
    }
   ],
   "source": [
    "for y in crange (-4, 4):\n",
    "    for x in range(2):\n",
    "        for s in crange(1, abs(y)):\n",
    "            if x > 0 and s == 1: continue\n",
    "            printnln(\"_\")\n",
    "        n = ganjil(5 -abs(y))\n",
    "        for z in crange(1, n):\n",
    "            if x>0 and n>8:continue\n",
    "            printnln(z)\n",
    "        for m in crange(1,9):\n",
    "            if x>0 and m==1:continue\n",
    "            printnln(m)\n",
    "            \n",
    "        for s in crange(1, abs(y)):\n",
    "            printnln(\"_\")\n",
    "    print()"
   ]
  },
  {
   "cell_type": "code",
   "execution_count": null,
   "metadata": {},
   "outputs": [],
   "source": []
  },
  {
   "cell_type": "raw",
   "metadata": {},
   "source": [
    "for y in crange (-4, 4):\n",
    "    for x in range(2):\n",
    "        for s in crange(1, abs(y)):\n",
    "            if x > 0 and s == 0: continue\n",
    "            printnln(\"_\")\n",
    "        n = ganjil(5 -abs(y))\n",
    "        for z in crange(1, n):\n",
    "            if x > 0 and z == -4 : continue\n",
    "            printnln(z)\n",
    "        for s in crange(1, abs(y)):\n",
    "            printnln(\"_\")\n",
    "    print()"
   ]
  },
  {
   "cell_type": "code",
   "execution_count": 186,
   "metadata": {},
   "outputs": [
    {
     "name": "stdout",
     "output_type": "stream",
     "text": [
      "- - - - 4 \n",
      "- - - 4 3 4 \n",
      "- - 4 3 2 3 4 \n",
      "- 4 3 2 1 2 3 4 \n",
      "4 3 2 1 0 1 2 3 4 \n",
      "- 4 3 2 1 2 3 4 \n",
      "- - 4 3 2 3 4 \n",
      "- - - 4 3 4 \n",
      "- - - - 4 \n"
     ]
    }
   ],
   "source": [
    "#step 1\n",
    "for y in crange(-4,4):\n",
    "    for s in crange(1,abs(y)):\n",
    "        printnln(\"-\")\n",
    "    n= 4 -abs(y)\n",
    "    for x in crange(-n,n):\n",
    "        v=abs(x)+abs(y)\n",
    "        printnln(v)\n",
    "    print()    "
   ]
  },
  {
   "cell_type": "code",
   "execution_count": 169,
   "metadata": {},
   "outputs": [
    {
     "name": "stdout",
     "output_type": "stream",
     "text": [
      "- - - - 4 \n",
      "- - - 4 - 4 \n",
      "- - 4 - 2 - 4 \n",
      "- 4 - 2 - 2 - 4 \n",
      "4 - 2 - 0 - 2 - 4 \n",
      "- 4 - 2 - 2 - 4 \n",
      "- - 4 - 2 - 4 \n",
      "- - - 4 - 4 \n",
      "- - - - 4 \n"
     ]
    }
   ],
   "source": [
    "#step2\n",
    "for y in crange(-4,4):\n",
    "    for s in crange(1,abs(y)):\n",
    "        printnln(\"-\")\n",
    "    n=4-abs(y)\n",
    "    for x in crange(-n,n):\n",
    "        v=abs(x)+abs(y)\n",
    "        if v%2>0:\n",
    "            printnln(\"-\")\n",
    "        else:\n",
    "            printnln(v)\n",
    "      \n",
    "    print() "
   ]
  },
  {
   "cell_type": "code",
   "execution_count": 170,
   "metadata": {},
   "outputs": [
    {
     "name": "stdout",
     "output_type": "stream",
     "text": [
      "- - - - 5 \n",
      "- - - 4 - 4 \n",
      "- - 3 - 3 - 3 \n",
      "- 2 - 2 - 2 - 2 \n",
      "1 - 1 - 1 - 1 - 1 \n",
      "- 2 - 2 - 2 - 2 \n",
      "- - 3 - 3 - 3 \n",
      "- - - 4 - 4 \n",
      "- - - - 5 \n"
     ]
    }
   ],
   "source": [
    "# step 3\n",
    "for y in crange(-4,4):\n",
    "    for s in crange(1,abs(y)):\n",
    "        printnln(\"-\")\n",
    "    n=4-abs(y)\n",
    "    for x in crange(-n,n):\n",
    "        v=abs(x)+abs(y)\n",
    "        if v%2>0:\n",
    "            printnln(\"-\")\n",
    "        else:\n",
    "            a=abs(y)+1\n",
    "            printnln(a)\n",
    "      \n",
    "    print() "
   ]
  },
  {
   "cell_type": "code",
   "execution_count": 165,
   "metadata": {},
   "outputs": [
    {
     "name": "stdout",
     "output_type": "stream",
     "text": [
      "- - - - 1 \n",
      "- - - 1 - 1 \n",
      "- - 1 - 2 - 1 \n",
      "- 1 - 2 - 2 - 1 \n",
      "1 - 2 - 3 - 2 - 1 \n",
      "- 1 - 2 - 2 - 1 \n",
      "- - 1 - 2 - 1 \n",
      "- - - 1 - 1 \n",
      "- - - - 1 \n"
     ]
    }
   ],
   "source": [
    "# step 4\n",
    "for y in crange(-4,4):\n",
    "    for s in crange(1,abs(y)):\n",
    "        printnln(\"-\")\n",
    "    n=4-abs(y)\n",
    "    for x in crange(-n,n):\n",
    "        v=abs(x)+abs(y)\n",
    "        if v%2>0:\n",
    "            printnln(\"-\")\n",
    "        else:\n",
    "            a=(5-v)//2+1\n",
    "            printnln(a)\n",
    "      \n",
    "    print() "
   ]
  },
  {
   "cell_type": "code",
   "execution_count": 36,
   "metadata": {},
   "outputs": [
    {
     "name": "stdout",
     "output_type": "stream",
     "text": [
      "- - - - 5 \n",
      "- - - 4 - 4 \n",
      "- - 3 - 3 - 3 \n",
      "- 2 - 2 - 2 - 2 \n",
      "1 - 2 - 3 - 2 - 1 \n",
      "- 2 - 2 - 2 - 2 \n",
      "- - 3 - 3 - 3 \n",
      "- - - 4 - 4 \n",
      "- - - - 5 \n"
     ]
    }
   ],
   "source": [
    "# step 5\n",
    "for y in crange(-4,4):\n",
    "    for s in crange(1,abs(y)):\n",
    "        printnln(\"-\")\n",
    "    n=4-abs(y)\n",
    "    for x in crange(-n,n):\n",
    "        v=abs(x)+abs(y)\n",
    "        if v%2>0:\n",
    "            printnln(\"-\")\n",
    "        else:\n",
    "            a=(5-v)//2+1\n",
    "            b=abs(y)+1\n",
    "            c=max(a,b)\n",
    "            printnln(c)\n",
    "      \n",
    "    print() "
   ]
  },
  {
   "cell_type": "code",
   "execution_count": 171,
   "metadata": {},
   "outputs": [
    {
     "name": "stdout",
     "output_type": "stream",
     "text": [
      "- - - - 5 \n",
      "- - - 3 - 3 \n",
      "- - 2 - 2 - 2 \n",
      "- 1 - 1 - 1 - 1 \n",
      "1 - 1 - 2 - 1 - 1 \n",
      "- 1 - 1 - 1 - 1 \n",
      "- - 2 - 2 - 2 \n",
      "- - - 3 - 3 \n",
      "- - - - 5 \n"
     ]
    }
   ],
   "source": [
    "# step 6\n",
    "for y in crange(-4,4):\n",
    "    for s in crange(1,abs(y)):\n",
    "        printnln(\"-\")\n",
    "    n=4-abs(y)\n",
    "    for x in crange(-n,n):\n",
    "        v=abs(x)+abs(y)\n",
    "        if v%2>0:\n",
    "            printnln(\"-\")\n",
    "        else:\n",
    "            a=(5-v)//2+1\n",
    "            b=abs(y)+1\n",
    "            c=max(a,b)\n",
    "            printnln(fib(c))\n",
    "      \n",
    "    print()"
   ]
  },
  {
   "cell_type": "code",
   "execution_count": 13,
   "metadata": {},
   "outputs": [
    {
     "name": "stdout",
     "output_type": "stream",
     "text": [
      "- - - - 5 , , , , - - - 5 , , , , \n",
      "- - - 4 - 4 , , , - - 4 - 4 , , , \n",
      "- - 3 - 3 - 3 , , - 3 - 3 - 3 , , \n",
      "- 2 - 2 - 2 - 2 , 2 - 2 - 2 - 2 , \n",
      "1 - 1 - 1 - 1 - 1 - 1 - 1 - 1 - 1 \n",
      "- 2 - 2 - 2 - 2 , 2 - 2 - 2 - 2 , \n",
      "- - 3 - 3 - 3 , , - 3 - 3 - 3 , , \n",
      "- - - 4 - 4 , , , - - 4 - 4 , , , \n",
      "- - - - 5 , , , , - - - 5 , , , , \n"
     ]
    }
   ],
   "source": [
    "# step 7\n",
    "for y in crange(-4,4):\n",
    "    for i in range(2):\n",
    "        for s in crange(1,abs(y)):\n",
    "            if s==1 and i>0:continue\n",
    "            printnln(\"-\")\n",
    "        n=4-abs(y)\n",
    "        for x in crange(-n,n):\n",
    "            if i>0 and x==-4:continue\n",
    "            v=abs(x)+abs(y)\n",
    "            if v%2>0:\n",
    "                printnln(\"-\")\n",
    "            else:\n",
    "                a=(5-v)//2+1\n",
    "                b=abs(y)+1\n",
    "                c=max(a,b)\n",
    "                printnln(b)\n",
    "        for s in crange(1,abs(y)):\n",
    "            printnln(\",\")\n",
    "      \n",
    "    print()"
   ]
  },
  {
   "cell_type": "code",
   "execution_count": 34,
   "metadata": {},
   "outputs": [
    {
     "name": "stdout",
     "output_type": "stream",
     "text": [
      "_ _ _ _ 4 _ _ _ _ \n",
      "_ _ _ 4 3 4 _ _ _ \n",
      "_ _ 4 3 2 3 4 _ _ \n",
      "_ 4 3 2 1 2 3 4 _ \n",
      "4 3 2 1 0 1 2 3 4 \n",
      "_ 4 3 2 1 2 3 4 _ \n",
      "_ _ 4 3 2 3 4 _ _ \n",
      "_ _ _ 4 3 4 _ _ _ \n",
      "_ _ _ _ 4 _ _ _ _ \n"
     ]
    }
   ],
   "source": [
    "for y in crange(-4, 4):\n",
    "    for s in crange(1, abs(y)):\n",
    "        printnln(\"_\")\n",
    "    n = 4 -abs(y)\n",
    "    for z in crange(-n, n):\n",
    "        r = abs(abs(y)+abs(z))    \n",
    "        printnln(r)\n",
    "    for s in crange(1, abs(y)):\n",
    "        printnln(\"_\")\n",
    "    print()"
   ]
  },
  {
   "cell_type": "code",
   "execution_count": 3,
   "metadata": {},
   "outputs": [
    {
     "name": "stdout",
     "output_type": "stream",
     "text": [
      "_ _ _ _ 5 _ _ _ _ _ _ _ 5 _ _ _ _ \n",
      "_ _ _ 3 _ 3 _ _ _ _ _ 3 _ 3 _ _ _ \n",
      "_ _ 2 _ 2 _ 2 _ _ _ 2 _ 2 _ 2 _ _ \n",
      "_ 1 _ 1 _ 1 _ 1 _ 1 _ 1 _ 1 _ 1 _ \n",
      "1 _ 1 _ 2 _ 1 _ 1 _ 1 _ 2 _ 1 _ 1 \n",
      "_ 1 _ 1 _ 1 _ 1 _ 1 _ 1 _ 1 _ 1 _ \n",
      "_ _ 2 _ 2 _ 2 _ _ _ 2 _ 2 _ 2 _ _ \n",
      "_ _ _ 3 _ 3 _ _ _ _ _ 3 _ 3 _ _ _ \n",
      "_ _ _ _ 5 _ _ _ _ _ _ _ 5 _ _ _ _ \n"
     ]
    }
   ],
   "source": [
    "for y in crange(-4, 4):\n",
    "    for x in range(2):\n",
    "        for s in crange(1, abs(y)):\n",
    "            if x > 0 and s == 1:\n",
    "                continue\n",
    "            printnln(\"_\")\n",
    "        n = 4 -abs(y)\n",
    "        for z in crange(-n, n):\n",
    "            if x > 0 and z == -4: \n",
    "                continue\n",
    "            r = abs(abs(y)+abs(z))    \n",
    "            if r % 2 == 0:    \n",
    "                a = (5 -r)// 2 + 1\n",
    "                b = abs(y)+1\n",
    "                printnln(fib(max(a,b)))\n",
    "            else:\n",
    "                printnln(\"_\")\n",
    "        for s in crange(1, abs(y)):\n",
    "            printnln(\"_\")\n",
    "    print()"
   ]
  },
  {
   "cell_type": "code",
   "execution_count": null,
   "metadata": {},
   "outputs": [],
   "source": [
    "for y in crange(-4, 4):\n",
    "    for s in crange(1, abs(y)):\n",
    "        printnln(\"_\")\n",
    "    n = 4 -abs(y)\n",
    "    for z in crange(-n, n):\n",
    "        r = abs(abs(y)+abs(z))    \n",
    "        if r % 2 == 0:    \n",
    "            a = (5 -r)// 2 + 1\n",
    "            b = abs(y)+1\n",
    "            printnln(fib(max(a,b)))\n",
    "        else:\n",
    "            printnln(\"_\")\n",
    "    for s in crange(1, abs(y)):\n",
    "        printnln(\"_\")\n",
    "    print()"
   ]
  },
  {
   "cell_type": "code",
   "execution_count": 25,
   "metadata": {},
   "outputs": [
    {
     "name": "stdout",
     "output_type": "stream",
     "text": [
      "* \n",
      "_ _ * \n",
      "_ * * * \n",
      "_ _ _ _ _ _ * \n",
      "_ _ _ _ _ * * * \n",
      "_ _ _ _ * * * * * \n",
      "_ _ _ _ _ _ _ _ _ _ _ _ * \n",
      "_ _ _ _ _ _ _ _ _ _ _ * * * \n",
      "_ _ _ _ _ _ _ _ _ _ * * * * * \n",
      "_ _ _ _ _ _ _ _ _ * * * * * * * \n"
     ]
    }
   ],
   "source": [
    "def totalpyramid(x):\n",
    "    return x * x\n",
    "\n",
    "for y in crange(1, 4):\n",
    "    for x in crange(1, y):\n",
    "        for z in crange(1, totalpyramid(y)-ganjil(y)):\n",
    "            printnln(\"_\")\n",
    "        for z in crange(0, y-x-1):\n",
    "            printnln(\"_\")\n",
    "        for a in crange(1, ganjil(x)):\n",
    "            printnln(\"*\")\n",
    "        print()"
   ]
  },
  {
   "cell_type": "code",
   "execution_count": 49,
   "metadata": {},
   "outputs": [
    {
     "name": "stdout",
     "output_type": "stream",
     "text": [
      "_ _ _ _ 1 \n",
      "_ _ _ 1 2 3 \n",
      "_ _ 1 2 3 4 5 \n",
      "_ 1 2 3 4 5 6 7 \n",
      "1 2 3 4 5 6 7 8 9 \n"
     ]
    }
   ],
   "source": [
    "for y in crange(1, 5):\n",
    "    for x in crange(1, 5 -y):\n",
    "        printnln(\"_\")\n",
    "    for z in crange(1, ganjil(y)):\n",
    "        printnln(z)\n",
    "    print()"
   ]
  },
  {
   "cell_type": "code",
   "execution_count": 51,
   "metadata": {},
   "outputs": [
    {
     "name": "stdout",
     "output_type": "stream",
     "text": [
      "1 2 3 4 5 6 7 8 9 \n",
      "_ 1 2 3 4 5 6 7 \n",
      "_ _ 1 2 3 4 5 \n",
      "_ _ _ 1 2 3 \n",
      "_ _ _ _ 1 \n"
     ]
    }
   ],
   "source": [
    "for x in crange(1, 5):\n",
    "    for y in crange(1, x -1):\n",
    "        printnln(\"_\")\n",
    "    for z in crange(1, ganjil(abs(6-x))):\n",
    "        printnln(z)\n",
    "    print()"
   ]
  },
  {
   "cell_type": "code",
   "execution_count": 54,
   "metadata": {},
   "outputs": [
    {
     "name": "stdout",
     "output_type": "stream",
     "text": [
      "_ _ _ _ 1 \n",
      "_ _ _ 1 2 3 \n",
      "_ _ 1 2 3 4 5 \n",
      "_ 1 2 3 4 5 6 7 \n",
      "1 2 3 4 5 6 7 8 9 \n",
      "_ 1 2 3 4 5 6 7 \n",
      "_ _ 1 2 3 4 5 \n",
      "_ _ _ 1 2 3 \n",
      "_ _ _ _ 1 \n"
     ]
    }
   ],
   "source": [
    "for y in crange(-4, 4):\n",
    "    for s in crange(1, abs(y)):\n",
    "        printnln(\"_\")\n",
    "    n = abs(abs(y) -5)\n",
    "    for z in crange(1, ganjil(n)):\n",
    "        printnln(z)\n",
    "    print()"
   ]
  },
  {
   "cell_type": "code",
   "execution_count": 61,
   "metadata": {},
   "outputs": [
    {
     "name": "stdout",
     "output_type": "stream",
     "text": [
      "_ _ _ _ 1 \n",
      "_ _ _ 1 3 1 \n",
      "_ _ 1 3 5 3 1 \n",
      "_ 1 3 5 7 5 3 1 \n",
      "1 3 5 7 9 7 5 3 1 \n",
      "_ 1 3 5 7 5 3 1 \n",
      "_ _ 1 3 5 3 1 \n",
      "_ _ _ 1 3 1 \n",
      "_ _ _ _ 1 \n"
     ]
    }
   ],
   "source": [
    "for y in crange(-4, 4):\n",
    "    for s in crange(1, abs(y)):\n",
    "        printnln(\"_\")\n",
    "    t = 5 -abs(y)\n",
    "    n = pbound(t)\n",
    "    for z in crange(-n, n):\n",
    "        r = ganjil(t-abs(z))\n",
    "        printnln(r)\n",
    "    print()"
   ]
  },
  {
   "cell_type": "code",
   "execution_count": null,
   "metadata": {},
   "outputs": [],
   "source": []
  }
 ],
 "metadata": {
  "kernelspec": {
   "display_name": "Python 3",
   "language": "python",
   "name": "python3"
  },
  "language_info": {
   "codemirror_mode": {
    "name": "ipython",
    "version": 3
   },
   "file_extension": ".py",
   "mimetype": "text/x-python",
   "name": "python",
   "nbconvert_exporter": "python",
   "pygments_lexer": "ipython3",
   "version": "3.6.7"
  }
 },
 "nbformat": 4,
 "nbformat_minor": 2
}
