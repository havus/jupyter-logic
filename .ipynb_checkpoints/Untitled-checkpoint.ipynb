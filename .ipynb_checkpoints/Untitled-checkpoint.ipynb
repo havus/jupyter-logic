{
 "cells": [
  {
   "cell_type": "code",
   "execution_count": 1,
   "metadata": {},
   "outputs": [],
   "source": [
    "def printnln(x):\n",
    "    print(x, end=\" \")\n",
    "def crange(x, y):\n",
    "    return range(x, y + 1)\n",
    "def ganjil(x):\n",
    "    return x *2 -1\n",
    "def genap(x):\n",
    "    return x *2 -2\n",
    "def fib(x):\n",
    "    if x <= 2:\n",
    "        return 1\n",
    "    else:\n",
    "        return fib(x -1) + fib(x -2)\n",
    "def fib3(x):\n",
    "    if x <= 3:\n",
    "        return 1\n",
    "    else:\n",
    "        return fib3(x -1) + fib3(x -2) + fib3(x -3)\n",
    "def fpb(x, y):\n",
    "    if y == 0:\n",
    "        return x\n",
    "    else:\n",
    "        return fpb(y, x%y)\n",
    "def kpk(x, y):\n",
    "    return x *y //fpb(x, y)\n",
    "def total(x):\n",
    "    return x*(x+1)//2"
   ]
  },
  {
   "cell_type": "code",
   "execution_count": 2,
   "metadata": {},
   "outputs": [
    {
     "name": "stdout",
     "output_type": "stream",
     "text": [
      "* * * * * * * * * \n",
      "* * * * * * * * * \n",
      "* * * * * * * * * \n",
      "* * * * * * * * * \n",
      "* * * * * * * * * \n",
      "* * * * * * * * * \n",
      "* * * * * * * * * \n",
      "* * * * * * * * * \n",
      "* * * * * * * * * \n"
     ]
    }
   ],
   "source": [
    "#INTRO\n",
    "for y in crange(1, 9):\n",
    "    for x in crange(1, 9):\n",
    "        printnln(\"*\")\n",
    "    print()"
   ]
  },
  {
   "cell_type": "code",
   "execution_count": 3,
   "metadata": {},
   "outputs": [
    {
     "name": "stdout",
     "output_type": "stream",
     "text": [
      "*                 \n",
      "  *               \n",
      "    *             \n",
      "      *           \n",
      "        *         \n",
      "          *       \n",
      "            *     \n",
      "              *   \n",
      "                * \n"
     ]
    }
   ],
   "source": [
    "for y in crange(1, 9):\n",
    "    for x in crange(1, 9):\n",
    "        if x == y:\n",
    "            printnln(\"*\")\n",
    "        else:\n",
    "            printnln(\" \")\n",
    "    print()"
   ]
  },
  {
   "cell_type": "code",
   "execution_count": 4,
   "metadata": {},
   "outputs": [
    {
     "name": "stdout",
     "output_type": "stream",
     "text": [
      "                * \n",
      "              *   \n",
      "            *     \n",
      "          *       \n",
      "        *         \n",
      "      *           \n",
      "    *             \n",
      "  *               \n",
      "*                 \n"
     ]
    }
   ],
   "source": [
    "for y in crange(1, 9):\n",
    "    for x in crange(1, 9):\n",
    "        if x == 10 - y:\n",
    "            printnln(\"*\")\n",
    "        else:\n",
    "            printnln(\" \")\n",
    "    print()"
   ]
  },
  {
   "cell_type": "code",
   "execution_count": 5,
   "metadata": {},
   "outputs": [
    {
     "name": "stdout",
     "output_type": "stream",
     "text": [
      "*               * \n",
      "  *           *   \n",
      "    *       *     \n",
      "      *   *       \n",
      "        *         \n",
      "      *   *       \n",
      "    *       *     \n",
      "  *           *   \n",
      "*               * \n"
     ]
    }
   ],
   "source": [
    "for y in crange(1, 9):\n",
    "    for x in crange(1, 9):\n",
    "        if x == y or x == 10 - y:\n",
    "            printnln(\"*\")\n",
    "        else:\n",
    "            printnln(\" \")\n",
    "    print()"
   ]
  },
  {
   "cell_type": "code",
   "execution_count": 6,
   "metadata": {},
   "outputs": [
    {
     "name": "stdout",
     "output_type": "stream",
     "text": [
      "1                 \n",
      "  3               \n",
      "    5             \n",
      "      7           \n",
      "        9         \n",
      "          11       \n",
      "            13     \n",
      "              15   \n",
      "                17 \n"
     ]
    }
   ],
   "source": [
    "for y in crange(1, 9):\n",
    "    for x in crange(1, 9):\n",
    "        if x == y:\n",
    "            printnln(ganjil(y))\n",
    "        else:\n",
    "            printnln(\" \")\n",
    "    print()"
   ]
  },
  {
   "cell_type": "code",
   "execution_count": 7,
   "metadata": {},
   "outputs": [
    {
     "name": "stdout",
     "output_type": "stream",
     "text": [
      "                16 \n",
      "              14   \n",
      "            12     \n",
      "          10       \n",
      "        8         \n",
      "      6           \n",
      "    4             \n",
      "  2               \n",
      "0                 \n"
     ]
    }
   ],
   "source": [
    "for y in crange(1, 9):\n",
    "    for x in crange(1, 9):\n",
    "        if x == 10 -y:\n",
    "            printnln(genap(x))\n",
    "        else:\n",
    "            printnln(\" \")\n",
    "    print()"
   ]
  },
  {
   "cell_type": "code",
   "execution_count": 8,
   "metadata": {},
   "outputs": [
    {
     "name": "stdout",
     "output_type": "stream",
     "text": [
      "1               16 \n",
      "  3           14   \n",
      "    5       12     \n",
      "      7   10       \n",
      "        9         \n",
      "      6   11       \n",
      "    4       13     \n",
      "  2           15   \n",
      "0               17 \n"
     ]
    }
   ],
   "source": [
    "for y in crange(1, 9):\n",
    "    for x in crange(1, 9):\n",
    "        if x == y:\n",
    "            printnln(ganjil(x))\n",
    "        elif x == 10 -y:\n",
    "            printnln(genap(x))\n",
    "        else:\n",
    "            printnln(\" \")\n",
    "    print()"
   ]
  },
  {
   "cell_type": "code",
   "execution_count": 9,
   "metadata": {},
   "outputs": [
    {
     "name": "stdout",
     "output_type": "stream",
     "text": [
      "1       1       16 \n",
      "  3     3     14   \n",
      "    5   5   12     \n",
      "      7 7 10       \n",
      "0 2 4 6 9 10 12 14 16 \n",
      "      6 11 11       \n",
      "    4   13   13     \n",
      "  2     15     15   \n",
      "0       17       17 \n"
     ]
    }
   ],
   "source": [
    "for y in crange(1, 9):\n",
    "    for x in crange(1, 9):\n",
    "        if x == y or x == 5:\n",
    "            printnln(ganjil(y))\n",
    "        elif x == 10 -y or y == 5:\n",
    "            printnln(genap(x))\n",
    "        else:\n",
    "            printnln(\" \")\n",
    "    print()"
   ]
  },
  {
   "cell_type": "code",
   "execution_count": 10,
   "metadata": {},
   "outputs": [
    {
     "name": "stdout",
     "output_type": "stream",
     "text": [
      "1                 \n",
      "1 3               \n",
      "1 3 5             \n",
      "1 3 5 7           \n",
      "1 3 5 7 9         \n",
      "1 3 5 7 9 11       \n",
      "1 3 5 7 9 11 13     \n",
      "1 3 5 7 9 11 13 15   \n",
      "1 3 5 7 9 11 13 15 17 \n"
     ]
    }
   ],
   "source": [
    "for y in crange(1, 9):\n",
    "    for x in crange(1, 9):\n",
    "        if x <= y:\n",
    "            printnln(ganjil(x))\n",
    "        else:\n",
    "            printnln(\" \")\n",
    "    print()"
   ]
  },
  {
   "cell_type": "code",
   "execution_count": 11,
   "metadata": {},
   "outputs": [
    {
     "name": "stdout",
     "output_type": "stream",
     "text": [
      "                16 \n",
      "              14 14 \n",
      "            12 12 12 \n",
      "          10 10 10 10 \n",
      "        8 8 8 8 8 \n",
      "      6 6 6 6 6 6 \n",
      "    4 4 4 4 4 4 4 \n",
      "  2 2 2 2 2 2 2 2 \n",
      "0 0 0 0 0 0 0 0 0 \n"
     ]
    }
   ],
   "source": [
    "for y in crange(1, 9):\n",
    "    for x in crange(1, 9):\n",
    "        if x >= 10 -y:\n",
    "            x = 10 -y\n",
    "            printnln(genap(x))\n",
    "        else:\n",
    "            printnln(\" \")\n",
    "    print()"
   ]
  },
  {
   "cell_type": "code",
   "execution_count": 12,
   "metadata": {},
   "outputs": [
    {
     "name": "stdout",
     "output_type": "stream",
     "text": [
      "1 A A A A A A A 16 \n",
      "D 3 A A A A A 14 B \n",
      "D D 5 A A A 12 B B \n",
      "D D D 7 A 10 B B B \n",
      "D D D D 9 B B B B \n",
      "D D D 6 C 11 B B B \n",
      "D D 4 C C C 13 B B \n",
      "D 2 C C C C C 15 B \n",
      "0 C C C C C C C 17 \n"
     ]
    }
   ],
   "source": [
    "for y in crange(1, 9):\n",
    "    for x in crange(1, 9):\n",
    "        if x == y:\n",
    "            printnln(ganjil(x))\n",
    "        elif x == 10 -y:\n",
    "            printnln(genap(x))\n",
    "        elif x > y and x < 10 -y:\n",
    "            printnln(\"A\")\n",
    "        elif x > y and x > 10 -y:\n",
    "            printnln(\"B\")\n",
    "        elif x < y and x > 10 -y:\n",
    "            printnln(\"C\")\n",
    "        else:\n",
    "            printnln(\"D\")\n",
    "    print()"
   ]
  },
  {
   "cell_type": "code",
   "execution_count": 13,
   "metadata": {},
   "outputs": [
    {
     "name": "stdout",
     "output_type": "stream",
     "text": [
      "1 1 2 3 5 8 13 21 34 "
     ]
    }
   ],
   "source": [
    "for x in range(1, 10):\n",
    "    printnln(fib(x))"
   ]
  },
  {
   "cell_type": "code",
   "execution_count": 14,
   "metadata": {},
   "outputs": [
    {
     "name": "stdout",
     "output_type": "stream",
     "text": [
      "1 1 1 3 5 9 17 31 57 "
     ]
    }
   ],
   "source": [
    "for y in crange(1, 9):\n",
    "    printnln(fib3(y))"
   ]
  },
  {
   "cell_type": "code",
   "execution_count": 15,
   "metadata": {},
   "outputs": [
    {
     "name": "stdout",
     "output_type": "stream",
     "text": [
      "kpk dan fpb dari 20 dan 30 adalah 60 10\n"
     ]
    }
   ],
   "source": [
    "printnln(\"kpk dan fpb dari 20 dan 30 adalah\")\n",
    "printnln(kpk(20, 30))\n",
    "print(fpb(20, 30))"
   ]
  },
  {
   "cell_type": "code",
   "execution_count": 16,
   "metadata": {},
   "outputs": [
    {
     "name": "stdout",
     "output_type": "stream",
     "text": [
      "1 1 1 1 1 1 1 1 1 \n",
      "1 1 1 1 1 1 1 1 1 \n",
      "1 1 2 2 2 2 2 1 1 \n",
      "1 1 2 3 3 3 2 1 1 \n",
      "1 1 2 3 5 3 2 1 1 \n",
      "1 1 2 3 3 3 2 1 1 \n",
      "1 1 2 2 2 2 2 1 1 \n",
      "1 1 1 1 1 1 1 1 1 \n",
      "1 1 1 1 1 1 1 1 1 \n"
     ]
    }
   ],
   "source": [
    "for y in crange(-4, 4):\n",
    "    for x in crange(-4, 4):\n",
    "        r = 5 -max(abs(x), abs(y))\n",
    "        printnln(fib(r))\n",
    "    print()"
   ]
  },
  {
   "cell_type": "code",
   "execution_count": 17,
   "metadata": {},
   "outputs": [
    {
     "name": "stdout",
     "output_type": "stream",
     "text": [
      "1 1 1 1 1 1 1 1 1 \n",
      "1               1 \n",
      "1   3 3 3 3 3   1 \n",
      "1   3       3   1 \n",
      "1   3   5   3   1 \n",
      "1   3       3   1 \n",
      "1   3 3 3 3 3   1 \n",
      "1               1 \n",
      "1 1 1 1 1 1 1 1 1 \n"
     ]
    }
   ],
   "source": [
    "for y in crange(-4, 4):\n",
    "    for x in crange(-4, 4):\n",
    "        r = 5 -max(abs(x), abs(y))\n",
    "        if r % 2 == 1:\n",
    "            printnln(r)\n",
    "        else:\n",
    "            printnln(\" \")\n",
    "    print()"
   ]
  },
  {
   "cell_type": "code",
   "execution_count": 18,
   "metadata": {},
   "outputs": [
    {
     "name": "stdout",
     "output_type": "stream",
     "text": [
      "1 1 1 1 1 1 1 1 1 \n",
      "1               1 \n",
      "1   1 1 1 1 1   1 \n",
      "1   1       1   1 \n",
      "1   1   2   1   1 \n",
      "1   1       1   1 \n",
      "1   1 1 1 1 1   1 \n",
      "1               1 \n",
      "1 1 1 1 1 1 1 1 1 \n"
     ]
    }
   ],
   "source": [
    "for y in crange(-4, 4):\n",
    "    for x in crange(-4, 4):\n",
    "        r = 5 -max(abs(x), abs(y))\n",
    "        if r % 2 == 1:\n",
    "            r = r //2 +1\n",
    "            printnln(fib(r))\n",
    "        else:\n",
    "            printnln(\" \")\n",
    "    print()"
   ]
  },
  {
   "cell_type": "code",
   "execution_count": 19,
   "metadata": {},
   "outputs": [
    {
     "name": "stdout",
     "output_type": "stream",
     "text": [
      "1 1 1 1 1 1 1 1 1 \n",
      "1 A A A A A A A 1 \n",
      "1 A 1 1 1 1 1 A 1 \n",
      "1 A 1 B B B 1 A 1 \n",
      "1 A 1 B 2 B 1 A 1 \n",
      "1 A 1 B B B 1 A 1 \n",
      "1 A 1 1 1 1 1 A 1 \n",
      "1 A A A A A A A 1 \n",
      "1 1 1 1 1 1 1 1 1 \n"
     ]
    }
   ],
   "source": [
    "alpha = \"AB\"\n",
    "for y in crange(-4, 4):\n",
    "    for x in crange(-4, 4):\n",
    "        r = 5 -max(abs(x), abs(y))\n",
    "        if r % 2 == 1:\n",
    "            r = r //2 +1\n",
    "            printnln(fib(r))\n",
    "        else:\n",
    "            i = r // 2 -1\n",
    "            printnln(alpha[i])\n",
    "    print()"
   ]
  },
  {
   "cell_type": "code",
   "execution_count": 20,
   "metadata": {},
   "outputs": [
    {
     "name": "stdout",
     "output_type": "stream",
     "text": [
      "_ _ _ _ 1 \n",
      "_ _ _ 1 2 3 \n",
      "_ _ 1 2 3 4 5 \n",
      "_ 1 2 3 4 5 6 7 \n",
      "1 2 3 4 5 6 7 8 9 \n"
     ]
    }
   ],
   "source": [
    "for y in crange(1, 5):\n",
    "    for s in crange(1, 5 -y):\n",
    "        printnln(\"_\")\n",
    "    for x in crange(1, ganjil(y)):\n",
    "        printnln(x)\n",
    "    print()"
   ]
  },
  {
   "cell_type": "code",
   "execution_count": 21,
   "metadata": {},
   "outputs": [
    {
     "name": "stdout",
     "output_type": "stream",
     "text": [
      "1 2 3 4 5 6 7 8 9 \n",
      "_ 1 2 3 4 5 6 7 \n",
      "_ _ 1 2 3 4 5 \n",
      "_ _ _ 1 2 3 \n",
      "_ _ _ _ 1 \n"
     ]
    }
   ],
   "source": [
    "for y in crange(1, 5):\n",
    "    for s in crange(1, y -1):\n",
    "        printnln(\"_\")\n",
    "    for x in crange(1, ganjil(6 -y)):\n",
    "        printnln(x)\n",
    "    print()"
   ]
  },
  {
   "cell_type": "code",
   "execution_count": 22,
   "metadata": {},
   "outputs": [
    {
     "name": "stdout",
     "output_type": "stream",
     "text": [
      "_ _ _ _ 1 \n",
      "_ _ _ 1 2 3 \n",
      "_ _ 1 2 3 4 5 \n",
      "_ 1 2 3 4 5 6 7 \n",
      "1 2 3 4 5 6 7 8 9 \n",
      "_ 1 2 3 4 5 6 7 \n",
      "_ _ 1 2 3 4 5 \n",
      "_ _ _ 1 2 3 \n",
      "_ _ _ _ 1 \n"
     ]
    }
   ],
   "source": [
    "for y in crange(-4, 4):\n",
    "    for s in crange(1, abs(y)):\n",
    "        printnln(\"_\")\n",
    "    for x in crange(1, ganjil(5 -abs(y))):\n",
    "        printnln(x)\n",
    "    print()"
   ]
  },
  {
   "cell_type": "code",
   "execution_count": 23,
   "metadata": {},
   "outputs": [
    {
     "name": "stdout",
     "output_type": "stream",
     "text": [
      "_ _ _ _ 1 \n",
      "_ _ _ 1 3 1 \n",
      "_ _ 1 3 5 3 1 \n",
      "_ 1 3 5 7 5 3 1 \n",
      "1 3 5 7 9 7 5 3 1 \n"
     ]
    }
   ],
   "source": [
    "for y in crange(1, 5):\n",
    "    for s in crange(1, 5 -y):\n",
    "        printnln(\"_\")\n",
    "    n = y -1\n",
    "    for x in crange(-n, n):\n",
    "        r = ganjil(abs(abs(x)-y))\n",
    "        printnln(r)\n",
    "    print()"
   ]
  },
  {
   "cell_type": "code",
   "execution_count": 24,
   "metadata": {},
   "outputs": [
    {
     "name": "stdout",
     "output_type": "stream",
     "text": [
      "1 3 5 7 9 7 5 3 1 \n",
      "_ 1 3 5 7 5 3 1 \n",
      "_ _ 1 3 5 3 1 \n",
      "_ _ _ 1 3 1 \n",
      "_ _ _ _ 1 \n"
     ]
    }
   ],
   "source": [
    "for y in crange(1, 5):\n",
    "    for s in crange(1, y -1):\n",
    "        printnln(\"_\")\n",
    "    n = 5 -y\n",
    "    for x in crange(-n, n):\n",
    "        r = ganjil(abs(abs(x)- (6-y)))\n",
    "        printnln(r)\n",
    "    print()"
   ]
  },
  {
   "cell_type": "code",
   "execution_count": 25,
   "metadata": {},
   "outputs": [
    {
     "name": "stdout",
     "output_type": "stream",
     "text": [
      "_ _ _ _ 1 \n",
      "_ _ _ 1 3 1 \n",
      "_ _ 1 3 5 3 1 \n",
      "_ 1 3 5 7 5 3 1 \n",
      "1 3 5 7 9 7 5 3 1 \n",
      "_ 1 3 5 7 5 3 1 \n",
      "_ _ 1 3 5 3 1 \n",
      "_ _ _ 1 3 1 \n",
      "_ _ _ _ 1 \n"
     ]
    }
   ],
   "source": [
    "def printnln(x):\n",
    "    print(x, end=\" \")\n",
    "for y in crange(-4, 4):\n",
    "    for s in crange(1, abs(y)):\n",
    "        printnln(\"_\")\n",
    "    n = 4 -abs(y)\n",
    "    for x in crange(-n, n):\n",
    "        r = ganjil(abs(abs(x)-(5-abs(y))))\n",
    "        printnln(r)\n",
    "    print()"
   ]
  },
  {
   "cell_type": "code",
   "execution_count": 26,
   "metadata": {},
   "outputs": [
    {
     "name": "stdout",
     "output_type": "stream",
     "text": [
      "_ _ _ _ 1         _ _ _ 1         \n",
      "_ _ _ 1 2 1       _ _ 1 2 1       \n",
      "_ _ 1 2 3 2 1     _ 1 2 3 2 1     \n",
      "_ 1 2 3 4 3 2 1   1 2 3 4 3 2 1   \n",
      "1 2 3 4 5 4 3 2 1 2 3 4 5 4 3 2 1 \n",
      "_ 1 2 3 4 3 2 1   1 2 3 4 3 2 1   \n",
      "_ _ 1 2 3 2 1     _ 1 2 3 2 1     \n",
      "_ _ _ 1 2 1       _ _ 1 2 1       \n",
      "_ _ _ _ 1         _ _ _ 1         \n"
     ]
    }
   ],
   "source": [
    "for y in crange(-4, 4):\n",
    "    for x in range(2):\n",
    "        for s in crange(1, abs(y)):\n",
    "            if x > 0 and s == 1:\n",
    "                continue\n",
    "            printnln(\"_\")\n",
    "        n = 4 -abs(y)\n",
    "        for z in crange(-n, n):\n",
    "            r = abs(abs(z)-(5-abs(y)))\n",
    "            if x > 0 and z == -4:\n",
    "                continue\n",
    "            printnln(r)\n",
    "        for s in crange(1, abs(y)):\n",
    "            printnln(\" \")\n",
    "    print()"
   ]
  },
  {
   "cell_type": "code",
   "execution_count": 32,
   "metadata": {},
   "outputs": [
    {
     "name": "stdout",
     "output_type": "stream",
     "text": [
      "_ _ _ _ 5 \n",
      "_ _ _ 3   3 \n",
      "_ _ 2   2   2 \n",
      "_ 1   1   1   1 \n",
      "1   1   2   1   1 \n",
      "_ 1   1   1   1 \n",
      "_ _ 2   2   2 \n",
      "_ _ _ 3   3 \n",
      "_ _ _ _ 5 \n"
     ]
    }
   ],
   "source": [
    "for y in crange(-4, 4):\n",
    "    for s in crange(1, abs(y)):\n",
    "        printnln(\"_\")\n",
    "    n = 4 -abs(y)\n",
    "    for z in crange(-n, n):\n",
    "        r = 5 -(abs(y) +abs(z))\n",
    "        if r % 2 == 1:\n",
    "            a = r //2 +1\n",
    "            b = abs(y) +1\n",
    "            printnln(fib(max(a,b)))\n",
    "        else:\n",
    "            printnln(\" \")\n",
    "    print()"
   ]
  },
  {
   "cell_type": "code",
   "execution_count": 36,
   "metadata": {},
   "outputs": [
    {
     "name": "stdout",
     "output_type": "stream",
     "text": [
      "[13, 18, 8]\n"
     ]
    }
   ],
   "source": [
    "x = [12, 2, 13, 18, 8, 3, 10]\n",
    "print(x[2:5])"
   ]
  },
  {
   "cell_type": "code",
   "execution_count": null,
   "metadata": {},
   "outputs": [],
   "source": []
  }
 ],
 "metadata": {
  "kernelspec": {
   "display_name": "Python 3",
   "language": "python",
   "name": "python3"
  },
  "language_info": {
   "codemirror_mode": {
    "name": "ipython",
    "version": 3
   },
   "file_extension": ".py",
   "mimetype": "text/x-python",
   "name": "python",
   "nbconvert_exporter": "python",
   "pygments_lexer": "ipython3",
   "version": "3.6.7"
  }
 },
 "nbformat": 4,
 "nbformat_minor": 2
}
