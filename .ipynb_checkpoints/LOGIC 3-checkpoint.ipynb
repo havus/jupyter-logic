{
 "cells": [
  {
   "cell_type": "code",
   "execution_count": 2,
   "metadata": {},
   "outputs": [],
   "source": [
    "def crange (x, y):\n",
    "    return range (x, y + 1)\n",
    "\n",
    "def printnln(x):\n",
    "    print(x,end=\" \")\n",
    "\n",
    "def fib(x):\n",
    "    if x <= 2:\n",
    "        return 1\n",
    "    else:\n",
    "        return fib(x-1) + fib(x-2)"
   ]
  },
  {
   "cell_type": "code",
   "execution_count": 5,
   "metadata": {},
   "outputs": [
    {
     "name": "stdout",
     "output_type": "stream",
     "text": [
      "1 fibonacci nya adalah 1\n",
      "2 fibonacci nya adalah 1\n",
      "3 fibonacci nya adalah 2\n",
      "4 fibonacci nya adalah 3\n",
      "5 fibonacci nya adalah 5\n",
      "6 fibonacci nya adalah 8\n",
      "7 fibonacci nya adalah 13\n",
      "8 fibonacci nya adalah 21\n",
      "9 fibonacci nya adalah 34\n"
     ]
    }
   ],
   "source": [
    "for x in crange (1, 9):\n",
    "    printnln(x)\n",
    "    printnln(\"fibonacci nya adalah\")\n",
    "    print(fib(x))"
   ]
  },
  {
   "cell_type": "code",
   "execution_count": 6,
   "metadata": {},
   "outputs": [
    {
     "name": "stdout",
     "output_type": "stream",
     "text": [
      "1 1 2 3 5 8 13 21 34 "
     ]
    }
   ],
   "source": [
    "for x in crange (1, 9):\n",
    "    printnln(fib(x))"
   ]
  },
  {
   "cell_type": "code",
   "execution_count": 7,
   "metadata": {},
   "outputs": [
    {
     "name": "stdout",
     "output_type": "stream",
     "text": [
      "1 1 1 3 5 9 17 31 57 "
     ]
    }
   ],
   "source": [
    "def fib(x):\n",
    "    if x <= 3:\n",
    "        return 1\n",
    "    else:\n",
    "        return fib(x-1) + fib(x-2) + fib(x-3)\n",
    "    \n",
    "for x in crange (1, 9):\n",
    "    printnln(fib(x))"
   ]
  },
  {
   "cell_type": "code",
   "execution_count": 11,
   "metadata": {},
   "outputs": [
    {
     "name": "stdout",
     "output_type": "stream",
     "text": [
      "fpb dan kpk dari 20 dan 35 adalah 20 "
     ]
    }
   ],
   "source": [
    "def fpb(x, y):\n",
    "    if y == 0:\n",
    "        return x\n",
    "    else:\n",
    "        return fpb (y, x % y)\n",
    "    \n",
    "def kpk(x, y):\n",
    "    return x * y // fpb (x, y)\n",
    "    \n",
    "printnln(\"fpb dan kpk dari 20 dan 35 adalah\")\n",
    "printnln(fpb(20, 35))\n",
    "# printnln(\"dan\")\n",
    "# print(kpk(20,35))"
   ]
  },
  {
   "cell_type": "code",
   "execution_count": 7,
   "metadata": {
    "scrolled": true
   },
   "outputs": [
    {
     "name": "stdout",
     "output_type": "stream",
     "text": [
      "1 A A A A A A A 16 \n",
      "D 3 A A A A A 14 B \n",
      "D D 5 A A A 12 B B \n",
      "D D D 7 A 10 B B B \n",
      "D D D D 9 B B B B \n",
      "D D D 6 C 11 B B B \n",
      "D D 4 C C C 13 B B \n",
      "D 2 C C C C C 15 B \n",
      "0 C C C C C C C 17 \n"
     ]
    }
   ],
   "source": [
    "for y in crange (1, 9):\n",
    "    for x in crange (1, 9):\n",
    "        if x == y:\n",
    "            x = x * 2 - 1\n",
    "            printnln(x)\n",
    "        elif x == 10 - y:\n",
    "            x = x * 2 - 2\n",
    "            printnln(x)\n",
    "        elif x > y and x < 10 - y:\n",
    "            printnln(\"A\")\n",
    "        elif x > y and x > 10 - y:\n",
    "            printnln(\"B\")\n",
    "        elif x < y and x > 10 - y: \n",
    "            printnln(\"C\")\n",
    "        elif x < y and x < 10 - y: \n",
    "            printnln(\"D\")\n",
    "        else: \n",
    "            printnln(\" \")\n",
    "    print()"
   ]
  },
  {
   "cell_type": "code",
   "execution_count": 8,
   "metadata": {},
   "outputs": [
    {
     "name": "stdout",
     "output_type": "stream",
     "text": [
      "0 1 2 3 4 3 2 1 0 \n",
      "1 0 1 2 3 2 1 0 1 \n",
      "2 1 0 1 2 1 0 1 2 \n",
      "3 2 1 0 1 0 1 2 3 \n",
      "4 3 2 1 0 1 2 3 4 \n",
      "3 2 1 0 1 0 1 2 3 \n",
      "2 1 0 1 2 1 0 1 2 \n",
      "1 0 1 2 3 2 1 0 1 \n",
      "0 1 2 3 4 3 2 1 0 \n"
     ]
    }
   ],
   "source": [
    "def fib(x):\n",
    "    if x <= 2:\n",
    "        return 1\n",
    "    else:\n",
    "        return fib(x-1) + fib(x-2)\n",
    "    \n",
    "bound = 9 // 2\n",
    "    \n",
    "for x in crange (-4, 4):\n",
    "    for y in crange (-4, 4):\n",
    "        n = abs(x) - abs(y)\n",
    "        printnln(abs(n))\n",
    "    print()"
   ]
  },
  {
   "cell_type": "code",
   "execution_count": 63,
   "metadata": {},
   "outputs": [
    {
     "name": "stdout",
     "output_type": "stream",
     "text": [
      "4 4 4 4 4 4 4 4 4 \n",
      "3 3 3 3 3 3 3 3 3 \n",
      "2 2 2 2 2 2 2 2 2 \n",
      "1 1 1 1 1 1 1 1 1 \n",
      "0 0 0 0 0 0 0 0 0 \n",
      "1 1 1 1 1 1 1 1 1 \n",
      "2 2 2 2 2 2 2 2 2 \n",
      "3 3 3 3 3 3 3 3 3 \n",
      "4 4 4 4 4 4 4 4 4 \n"
     ]
    }
   ],
   "source": [
    "bound = 9 // 2\n",
    "    \n",
    "for x in crange (-4, 4):\n",
    "    for y in crange (-4, 4):\n",
    "        printnln(abs(x))\n",
    "    print()"
   ]
  },
  {
   "cell_type": "code",
   "execution_count": 64,
   "metadata": {},
   "outputs": [
    {
     "name": "stdout",
     "output_type": "stream",
     "text": [
      "4 3 2 1 0 1 2 3 4 \n",
      "4 3 2 1 0 1 2 3 4 \n",
      "4 3 2 1 0 1 2 3 4 \n",
      "4 3 2 1 0 1 2 3 4 \n",
      "4 3 2 1 0 1 2 3 4 \n",
      "4 3 2 1 0 1 2 3 4 \n",
      "4 3 2 1 0 1 2 3 4 \n",
      "4 3 2 1 0 1 2 3 4 \n",
      "4 3 2 1 0 1 2 3 4 \n"
     ]
    }
   ],
   "source": [
    "bound = 9 // 2\n",
    "    \n",
    "for x in crange (-4, 4):\n",
    "    for y in crange (-4, 4):\n",
    "        printnln(abs(y))\n",
    "    print()"
   ]
  },
  {
   "cell_type": "code",
   "execution_count": 65,
   "metadata": {},
   "outputs": [
    {
     "name": "stdout",
     "output_type": "stream",
     "text": [
      "1 1 1 1 1 1 1 1 1 \n",
      "1 1 1 1 1 1 1 1 1 \n",
      "1 1 2 2 2 2 2 1 1 \n",
      "1 1 2 3 3 3 2 1 1 \n",
      "1 1 2 3 5 3 2 1 1 \n",
      "1 1 2 3 3 3 2 1 1 \n",
      "1 1 2 2 2 2 2 1 1 \n",
      "1 1 1 1 1 1 1 1 1 \n",
      "1 1 1 1 1 1 1 1 1 \n"
     ]
    }
   ],
   "source": [
    "bound = 9//2\n",
    "\n",
    "for y in crange (-bound, bound):\n",
    "    for x in crange (-bound, bound):\n",
    "        n = 5 - max(abs(x),abs(y))\n",
    "        printnln(fib(n))\n",
    "    print()      "
   ]
  },
  {
   "cell_type": "code",
   "execution_count": 66,
   "metadata": {},
   "outputs": [
    {
     "name": "stdout",
     "output_type": "stream",
     "text": [
      "1 1 1 1 1 1 1 1 1 \n",
      "1               1 \n",
      "1   3 3 3 3 3   1 \n",
      "1   3       3   1 \n",
      "1   3   5   3   1 \n",
      "1   3       3   1 \n",
      "1   3 3 3 3 3   1 \n",
      "1               1 \n",
      "1 1 1 1 1 1 1 1 1 \n"
     ]
    }
   ],
   "source": [
    "for y in crange (-4, 4):\n",
    "    for x in crange (-4, 4):\n",
    "        n = 5 - max(abs(x),abs(y))\n",
    "        if n % 2 == 1:\n",
    "            printnln(n)\n",
    "        else:\n",
    "            printnln(\" \")\n",
    "    print()      "
   ]
  },
  {
   "cell_type": "code",
   "execution_count": 67,
   "metadata": {},
   "outputs": [
    {
     "name": "stdout",
     "output_type": "stream",
     "text": [
      "1 1 1 1 1 1 1 1 1 \n",
      "1               1 \n",
      "1   1 1 1 1 1   1 \n",
      "1   1       1   1 \n",
      "1   1   2   1   1 \n",
      "1   1       1   1 \n",
      "1   1 1 1 1 1   1 \n",
      "1               1 \n",
      "1 1 1 1 1 1 1 1 1 \n"
     ]
    }
   ],
   "source": [
    "for y in crange (-4, 4):\n",
    "    for x in crange (-4, 4):\n",
    "        n = 5 - max(abs(x),abs(y))\n",
    "        if n % 2 == 1:\n",
    "            n = n // 2 + 1\n",
    "            printnln(fib(n))\n",
    "        else:\n",
    "            printnln(\" \")\n",
    "    print()      "
   ]
  },
  {
   "cell_type": "code",
   "execution_count": 93,
   "metadata": {},
   "outputs": [
    {
     "name": "stdout",
     "output_type": "stream",
     "text": [
      "1 1 1 1 1 1 1 1 1 \n",
      "1 A A A A A A A 1 \n",
      "1 A 1 1 1 1 1 A 1 \n",
      "1 A 1 B B B 1 A 1 \n",
      "1 A 1 B 2 B 1 A 1 \n",
      "1 A 1 B B B 1 A 1 \n",
      "1 A 1 1 1 1 1 A 1 \n",
      "1 A A A A A A A 1 \n",
      "1 1 1 1 1 1 1 1 1 \n"
     ]
    }
   ],
   "source": [
    "alpha = \"AB\"\n",
    "for y in crange (-4, 4):\n",
    "    for x in crange (-4, 4):\n",
    "        n = 5 - max(abs(x),abs(y))\n",
    "        if n % 2 == 1:\n",
    "            n = n // 2 + 1\n",
    "            printnln(fib(n))\n",
    "        else:\n",
    "            i = n // 2 - 1\n",
    "            printnln(alpha[i])\n",
    "    print()     "
   ]
  },
  {
   "cell_type": "code",
   "execution_count": 102,
   "metadata": {},
   "outputs": [
    {
     "name": "stdout",
     "output_type": "stream",
     "text": [
      "        1 \n",
      "      1 2 3 \n",
      "    1 2 3 4 5 \n",
      "  1 2 3 4 5 6 7 \n",
      "1 2 3 4 5 6 7 8 9 \n"
     ]
    }
   ],
   "source": [
    "def ganjil(x):\n",
    "    return x * 2 - 1\n",
    "\n",
    "for y in crange (1, 5):\n",
    "    for s in crange (1, 5 - y):\n",
    "        printnln(\" \")\n",
    "    for x in crange(1, ganjil(y)):\n",
    "        printnln(x)\n",
    "    print()"
   ]
  },
  {
   "cell_type": "code",
   "execution_count": 109,
   "metadata": {},
   "outputs": [
    {
     "name": "stdout",
     "output_type": "stream",
     "text": [
      "1 2 3 4 5 6 7 8 9 \n",
      "  1 2 3 4 5 6 7 \n",
      "    1 2 3 4 5 \n",
      "      1 2 3 \n",
      "        1 \n"
     ]
    }
   ],
   "source": [
    "def ganjil(x):\n",
    "    return x * 2 - 1\n",
    "\n",
    "for y in crange (1, 5):\n",
    "    for s in crange (1, y-1):\n",
    "        printnln(\" \")\n",
    "    n = 6 - y\n",
    "    for x in crange(1, ganjil(n)):\n",
    "        printnln(x)\n",
    "    print()"
   ]
  },
  {
   "cell_type": "code",
   "execution_count": 3,
   "metadata": {},
   "outputs": [
    {
     "name": "stdout",
     "output_type": "stream",
     "text": [
      "        1 \n",
      "      1 2 3 \n",
      "    1 2 3 4 5 \n",
      "  1 2 3 4 5 6 7 \n",
      "1 2 3 4 5 6 7 8 9 \n",
      "  1 2 3 4 5 6 7 \n",
      "    1 2 3 4 5 \n",
      "      1 2 3 \n",
      "        1 \n"
     ]
    }
   ],
   "source": [
    "def ganjil(x):\n",
    "    return x * 2 - 1\n",
    "\n",
    "for y in crange(-4, 4):\n",
    "    for s in crange(1, abs(y)):\n",
    "        printnln(\" \")\n",
    "    for x in crange(1, ganjil(5- abs(y))):\n",
    "        printnln(x)\n",
    "    print()"
   ]
  },
  {
   "cell_type": "code",
   "execution_count": 10,
   "metadata": {},
   "outputs": [
    {
     "name": "stdout",
     "output_type": "stream",
     "text": [
      "_ _ _ _ 1 \n",
      "_ _ _ 1 3 1 \n",
      "_ _ 1 3 5 3 1 \n",
      "_ 1 3 5 7 5 3 1 \n",
      "1 3 5 7 9 7 5 3 1 \n"
     ]
    }
   ],
   "source": [
    "def pbound(n):\n",
    "    return n - 1\n",
    "\n",
    "for y in crange(1, 5):\n",
    "    for s in crange(1, 5-y):\n",
    "        printnln(\"_\")\n",
    "    n = pbound(y)\n",
    "    for x in crange(-n, n):\n",
    "        r = ganjil(y-abs(x))\n",
    "        printnln(r)\n",
    "    print()"
   ]
  },
  {
   "cell_type": "code",
   "execution_count": 40,
   "metadata": {},
   "outputs": [
    {
     "name": "stdout",
     "output_type": "stream",
     "text": [
      "1 3 5 7 9 7 5 3 1 \n",
      "_ 1 3 5 7 5 3 1 \n",
      "_ _ 1 3 5 3 1 \n",
      "_ _ _ 1 3 1 \n",
      "_ _ _ _ 1 \n"
     ]
    }
   ],
   "source": [
    "for y in crange(1, 5):\n",
    "    for s in crange(1, y -1):\n",
    "        printnln(\"_\")\n",
    "    t = 6 -y\n",
    "    n = pbound(t)\n",
    "    for x in crange(-n, n):\n",
    "        r = ganjil(abs(abs(x) -t))\n",
    "        printnln(r)\n",
    "    print()"
   ]
  },
  {
   "cell_type": "code",
   "execution_count": 36,
   "metadata": {},
   "outputs": [
    {
     "name": "stdout",
     "output_type": "stream",
     "text": [
      "_ _ _ _ 1 \n",
      "_ _ _ 1 3 1 \n",
      "_ _ 1 3 5 3 1 \n",
      "_ 1 3 5 7 5 3 1 \n",
      "1 3 5 7 9 7 5 3 1 \n",
      "_ 1 3 5 7 5 3 1 \n",
      "_ _ 1 3 5 3 1 \n",
      "_ _ _ 1 3 1 \n",
      "_ _ _ _ 1 \n"
     ]
    }
   ],
   "source": [
    "for y in crange(-4, 4):\n",
    "    for s in crange(1, abs(y)):\n",
    "        printnln(\"_\")\n",
    "    t = 5-abs(y)\n",
    "    n = pbound(t)\n",
    "    for z in crange(-n, n):\n",
    "        r = ganjil(t-abs(z))\n",
    "        printnln(r)\n",
    "    print()"
   ]
  },
  {
   "cell_type": "code",
   "execution_count": 71,
   "metadata": {},
   "outputs": [
    {
     "name": "stdout",
     "output_type": "stream",
     "text": [
      "_ _ _ _ 1 _ _ _ _ _ _ _ 1 _ _ _ _ \n",
      "_ _ _ 1 3 1 _ _ _ _ _ 1 3 1 _ _ _ \n",
      "_ _ 1 3 5 3 1 _ _ _ 1 3 5 3 1 _ _ \n",
      "_ 1 3 5 7 5 3 1 _ 1 3 5 7 5 3 1 _ \n",
      "1 3 5 7 9 7 5 3 1 3 5 7 9 7 5 3 1 \n",
      "_ 1 3 5 7 5 3 1 _ 1 3 5 7 5 3 1 _ \n",
      "_ _ 1 3 5 3 1 _ _ _ 1 3 5 3 1 _ _ \n",
      "_ _ _ 1 3 1 _ _ _ _ _ 1 3 1 _ _ _ \n",
      "_ _ _ _ 1 _ _ _ _ _ _ _ 1 _ _ _ _ \n"
     ]
    }
   ],
   "source": [
    "for y in crange(-4, 4):\n",
    "    for z in range(2):\n",
    "        for s in crange(1, abs(y)):\n",
    "            if z > 0 and s == 1:\n",
    "                continue\n",
    "            printnln(\"_\")\n",
    "        t = 5 -abs(y)\n",
    "        n = pbound(t)\n",
    "        for x in crange(-n, n):\n",
    "            if z > 0 and x == -4: continue\n",
    "            r = ganjil(t -abs(x))\n",
    "            printnln(r)\n",
    "        for s in crange(1, abs(y)):\n",
    "            printnln(\"_\")\n",
    "    print()"
   ]
  },
  {
   "cell_type": "code",
   "execution_count": 82,
   "metadata": {},
   "outputs": [
    {
     "name": "stdout",
     "output_type": "stream",
     "text": [
      "_ _ _ _ 4 \n",
      "_ _ _ 4 _ 4 \n",
      "_ _ 4 _ 2 _ 4 \n",
      "_ 4 _ 2 _ 2 _ 4 \n",
      "4 _ 2 _ 0 _ 2 _ 4 \n",
      "_ 4 _ 2 _ 2 _ 4 \n",
      "_ _ 4 _ 2 _ 4 \n",
      "_ _ _ 4 _ 4 \n",
      "_ _ _ _ 4 \n"
     ]
    }
   ],
   "source": [
    "for y in crange(-4, 4):\n",
    "    for s in crange(1, abs(y)):\n",
    "        printnln(\"_\")\n",
    "    n = 4 -abs(y)\n",
    "    for z in crange(-n, n):\n",
    "        r = abs(y) +abs(z)\n",
    "        if r % 2 == 0:\n",
    "            printnln(r)\n",
    "        else:\n",
    "            printnln(\"_\")\n",
    "    print()"
   ]
  },
  {
   "cell_type": "code",
   "execution_count": 96,
   "metadata": {},
   "outputs": [
    {
     "name": "stdout",
     "output_type": "stream",
     "text": [
      "_ _ _ _ 5 _ _ _ _ _ _ _ 5 _ _ _ _ \n",
      "_ _ _ 3 _ 3 _ _ _ _ _ 3 _ 3 _ _ _ \n",
      "_ _ 2 _ 2 _ 2 _ _ _ 2 _ 2 _ 2 _ _ \n",
      "_ 1 _ 1 _ 1 _ 1 _ 1 _ 1 _ 1 _ 1 _ \n",
      "1 _ 1 _ 2 _ 1 _ 1 _ 1 _ 2 _ 1 _ 1 \n",
      "_ 1 _ 1 _ 1 _ 1 _ 1 _ 1 _ 1 _ 1 _ \n",
      "_ _ 2 _ 2 _ 2 _ _ _ 2 _ 2 _ 2 _ _ \n",
      "_ _ _ 3 _ 3 _ _ _ _ _ 3 _ 3 _ _ _ \n",
      "_ _ _ _ 5 _ _ _ _ _ _ _ 5 _ _ _ _ \n"
     ]
    }
   ],
   "source": [
    "for y in crange(-4, 4):\n",
    "    for x in range(2):\n",
    "        for s in crange(1, abs(y)):\n",
    "            if x > 0 and s == 1:\n",
    "                continue\n",
    "            printnln(\"_\")\n",
    "        n = 4 -abs(y)\n",
    "        for z in crange(-n, n):\n",
    "            if x > 0 and z == -4:\n",
    "                continue\n",
    "            r = abs(y) +abs(z)\n",
    "            if r % 2 == 0:\n",
    "                a = abs(y) + 1\n",
    "                b = (6 -abs(z))//2\n",
    "                printnln(fib(max(a,b)))\n",
    "            else:\n",
    "                printnln(\"_\")\n",
    "        for s in crange(1, abs(y)):\n",
    "            printnln(\"_\")\n",
    "    print()"
   ]
  },
  {
   "cell_type": "code",
   "execution_count": 5,
   "metadata": {},
   "outputs": [
    {
     "name": "stdout",
     "output_type": "stream",
     "text": [
      "_ _ _ _ 0 \n",
      "_ _ _ -1 0 1 \n",
      "_ _ -2 -1 0 1 2 \n",
      "_ -3 -2 -1 0 1 2 3 \n",
      "-4 -3 -2 -1 0 1 2 3 4 \n",
      "_ -3 -2 -1 0 1 2 3 \n",
      "_ _ -2 -1 0 1 2 \n",
      "_ _ _ -1 0 1 \n",
      "_ _ _ _ 0 \n"
     ]
    }
   ],
   "source": [
    "for y in crange(-4, 4):\n",
    "    for s in crange(1, abs(y)):\n",
    "        printnln(\"_\")\n",
    "    n = abs(abs(y)-4)\n",
    "    for z in crange(-n, n):\n",
    "        printnln(z)\n",
    "    print()"
   ]
  },
  {
   "cell_type": "code",
   "execution_count": 10,
   "metadata": {},
   "outputs": [
    {
     "name": "stdout",
     "output_type": "stream",
     "text": [
      "        * * * * * \n",
      "        * * * *   \n",
      "        * * *     \n",
      "        * *       \n",
      "        *         \n",
      "      * *         \n",
      "    * * *         \n",
      "  * * * *         \n",
      "* * * * *         \n"
     ]
    }
   ],
   "source": [
    "for y in crange(1,9):\n",
    "    for x in crange(1, 9):\n",
    "        if x >= 5 and x <= 10 -y:\n",
    "            printnln(\"*\")\n",
    "        elif x <= 5 and x >= 10 -y:\n",
    "            printnln(\"*\")\n",
    "        else:\n",
    "            printnln(\" \")\n",
    "    print()"
   ]
  },
  {
   "cell_type": "code",
   "execution_count": 19,
   "metadata": {},
   "outputs": [
    {
     "name": "stdout",
     "output_type": "stream",
     "text": [
      "* * * * * * * * * \n",
      "  * * * * * * * * \n",
      "    * * * * * * * \n",
      "      * * * * * * \n",
      "        * * * * * \n",
      "          * * * * \n",
      "            * * * \n",
      "              * * \n",
      "                * \n"
     ]
    }
   ],
   "source": [
    "for y in crange(1,9):\n",
    "    for x in crange(1, 9):\n",
    "        if x >= y:\n",
    "            printnln(\"*\")\n",
    "        else:\n",
    "            printnln(\" \")\n",
    "    print()"
   ]
  },
  {
   "cell_type": "code",
   "execution_count": 16,
   "metadata": {},
   "outputs": [
    {
     "name": "stdout",
     "output_type": "stream",
     "text": [
      "* * * * * * * * * \n",
      "* * * * * * * * * \n",
      "* * * * * * * * * \n",
      "* * * * * * * * * \n",
      "* * * * * * * * * \n",
      "* * * * * * * * * \n",
      "* * * * * * * * * \n",
      "* * * * * * * * * \n",
      "* * * * * * * * * \n"
     ]
    }
   ],
   "source": [
    "for y in crange(1,9):\n",
    "    for x in crange(1, 9):\n",
    "        printnln(\"*\")\n",
    "    print()"
   ]
  },
  {
   "cell_type": "code",
   "execution_count": 23,
   "metadata": {},
   "outputs": [
    {
     "name": "stdout",
     "output_type": "stream",
     "text": [
      "                  \n",
      "                  \n",
      "                  \n",
      "                  \n",
      "* * * * * * * * * \n",
      "* * * * * * * * * \n",
      "* * * * * * * * * \n",
      "* * * * * * * * * \n",
      "* * * * * * * * * \n"
     ]
    }
   ],
   "source": [
    "for y in crange(1, 9):\n",
    "    for x in crange(1, 9):\n",
    "        if y >= 10 -y:\n",
    "            printnln(\"*\")\n",
    "        else:\n",
    "            printnln(\" \")\n",
    "    print()"
   ]
  },
  {
   "cell_type": "code",
   "execution_count": null,
   "metadata": {},
   "outputs": [],
   "source": []
  }
 ],
 "metadata": {
  "kernelspec": {
   "display_name": "Python 3",
   "language": "python",
   "name": "python3"
  },
  "language_info": {
   "codemirror_mode": {
    "name": "ipython",
    "version": 3
   },
   "file_extension": ".py",
   "mimetype": "text/x-python",
   "name": "python",
   "nbconvert_exporter": "python",
   "pygments_lexer": "ipython3",
   "version": "3.7.3"
  }
 },
 "nbformat": 4,
 "nbformat_minor": 2
}
