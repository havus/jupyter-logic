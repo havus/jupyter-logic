{
 "cells": [
  {
   "cell_type": "code",
   "execution_count": 1,
   "metadata": {},
   "outputs": [],
   "source": [
    "def printnln(x):\n",
    "    print(x, end=\" \")\n",
    "def crange(x, y):\n",
    "    return range(x, y + 1)\n",
    "def fib(x):\n",
    "    if x <= 2:\n",
    "        return 1\n",
    "    else:\n",
    "        return fib(x-1) + fib(x-2)\n",
    "def fib3(x):\n",
    "    if x <= 3:\n",
    "        return 1\n",
    "    else:\n",
    "        return fib3(x-1) + fib(x-2) + fib(x-3)\n",
    "def ganjil(x):\n",
    "    return x * 2 - 1\n",
    "def genap(x):\n",
    "    return x * 2 - 2\n",
    "def fpb(x, y):\n",
    "    if y == 0:\n",
    "        return x\n",
    "    else:\n",
    "        return fpb(y, x % y)\n",
    "def kpk(x, y):\n",
    "    return x * y // fpb(x, y)\n",
    "def pBound(x):\n",
    "    return x - 1    "
   ]
  },
  {
   "cell_type": "code",
   "execution_count": 14,
   "metadata": {},
   "outputs": [
    {
     "name": "stdout",
     "output_type": "stream",
     "text": [
      "1       1       16 \n",
      "  3     3     14   \n",
      "    5   5   12     \n",
      "      7 7 10       \n",
      "0 2 4 6 9 10 12 14 16 \n",
      "      6 11 11       \n",
      "    4   13   13     \n",
      "  2     15     15   \n",
      "0       17       17 \n"
     ]
    }
   ],
   "source": [
    "for y in crange(1, 9):\n",
    "    for x in crange(1, 9):\n",
    "        if x == y or x == 5:\n",
    "            printnln(ganjil(y))\n",
    "        elif y == 5 or x == 10 - y:\n",
    "            printnln(genap(x))\n",
    "        else:\n",
    "            printnln(\" \")\n",
    "    print()"
   ]
  },
  {
   "cell_type": "code",
   "execution_count": 18,
   "metadata": {},
   "outputs": [
    {
     "name": "stdout",
     "output_type": "stream",
     "text": [
      "                16 \n",
      "              14 14 \n",
      "            12 12 12 \n",
      "          10 10 10 10 \n",
      "        8 8 8 8 8 \n",
      "      6 6 6 6 6 6 \n",
      "    4 4 4 4 4 4 4 \n",
      "  2 2 2 2 2 2 2 2 \n",
      "0 0 0 0 0 0 0 0 0 \n"
     ]
    }
   ],
   "source": [
    "for y in crange(1, 9):\n",
    "    for x in crange(1, 9):\n",
    "        if x >= 10 - y:\n",
    "            x = 10 - y\n",
    "            printnln(genap(x))\n",
    "        else:\n",
    "            printnln(\" \")\n",
    "    print()"
   ]
  },
  {
   "cell_type": "code",
   "execution_count": 22,
   "metadata": {},
   "outputs": [
    {
     "name": "stdout",
     "output_type": "stream",
     "text": [
      "1 1 2 3 5 8 13 21 34 "
     ]
    }
   ],
   "source": [
    "for x in crange (1, 9):\n",
    "    printnln(fib(x))"
   ]
  },
  {
   "cell_type": "code",
   "execution_count": 24,
   "metadata": {},
   "outputs": [
    {
     "name": "stdout",
     "output_type": "stream",
     "text": [
      "1 1 1 3 6 11 19 32 53 "
     ]
    }
   ],
   "source": [
    "for x in crange(1, 9):\n",
    "    printnln(fib3(x))"
   ]
  },
  {
   "cell_type": "code",
   "execution_count": 28,
   "metadata": {},
   "outputs": [
    {
     "name": "stdout",
     "output_type": "stream",
     "text": [
      "5 "
     ]
    }
   ],
   "source": [
    "printnln(fpb(20,35))"
   ]
  },
  {
   "cell_type": "code",
   "execution_count": 29,
   "metadata": {},
   "outputs": [
    {
     "name": "stdout",
     "output_type": "stream",
     "text": [
      "1 A A A A A A A 16 \n",
      "D 3 A A A A A 14 B \n",
      "D D 5 A A A 12 B B \n",
      "D D D 7 A 10 B B B \n",
      "D D D D 9 B B B B \n",
      "D D D 6 C 11 B B B \n",
      "D D 4 C C C 13 B B \n",
      "D 2 C C C C C 15 B \n",
      "0 C C C C C C C 17 \n"
     ]
    }
   ],
   "source": [
    "for y in crange(1, 9):\n",
    "    for x in crange(1, 9):\n",
    "        if x == y:\n",
    "            printnln(ganjil(x))\n",
    "        elif x == 10 - y:\n",
    "            printnln(genap(x))\n",
    "        elif x > y and x < 10 - y:\n",
    "            printnln(\"A\")\n",
    "        elif x > y and x > 10 - y:\n",
    "            printnln(\"B\")\n",
    "        elif x < y and x > 10 - y:\n",
    "            printnln(\"C\")\n",
    "        elif x < y and x < 10 - y:\n",
    "            printnln(\"D\")\n",
    "    print()"
   ]
  },
  {
   "cell_type": "code",
   "execution_count": 45,
   "metadata": {},
   "outputs": [
    {
     "name": "stdout",
     "output_type": "stream",
     "text": [
      "1 1 1 1 1 1 1 1 1 \n",
      "1 1 1 1 1 1 1 1 1 \n",
      "1 1 2 2 2 2 2 1 1 \n",
      "1 1 2 3 3 3 2 1 1 \n",
      "1 1 2 3 5 3 2 1 1 \n",
      "1 1 2 3 3 3 2 1 1 \n",
      "1 1 2 2 2 2 2 1 1 \n",
      "1 1 1 1 1 1 1 1 1 \n",
      "1 1 1 1 1 1 1 1 1 \n"
     ]
    }
   ],
   "source": [
    "#bound = 9 // 2\n",
    "\n",
    "for y in crange(-4, 4):\n",
    "    for x in crange(-4, 4):\n",
    "        n = 5 - max(abs(x),abs(y))\n",
    "        printnln(fib(n))\n",
    "    print()"
   ]
  },
  {
   "cell_type": "code",
   "execution_count": 51,
   "metadata": {},
   "outputs": [
    {
     "name": "stdout",
     "output_type": "stream",
     "text": [
      "1 1 1 1 1 1 1 1 1 \n",
      "1               1 \n",
      "1   3 3 3 3 3   1 \n",
      "1   3       3   1 \n",
      "1   3   5   3   1 \n",
      "1   3       3   1 \n",
      "1   3 3 3 3 3   1 \n",
      "1               1 \n",
      "1 1 1 1 1 1 1 1 1 \n"
     ]
    }
   ],
   "source": [
    "for y in crange(-4, 4):\n",
    "    for x in crange(-4, 4):\n",
    "        n = 5 - max(abs(x),abs(y))\n",
    "        if n % 2 == 1:\n",
    "            printnln(n)\n",
    "        else:\n",
    "            printnln(\" \")\n",
    "    print()"
   ]
  },
  {
   "cell_type": "code",
   "execution_count": 59,
   "metadata": {},
   "outputs": [
    {
     "name": "stdout",
     "output_type": "stream",
     "text": [
      "1 1 1 1 1 1 1 1 1 \n",
      "1               1 \n",
      "1   1 1 1 1 1   1 \n",
      "1   1       1   1 \n",
      "1   1   2   1   1 \n",
      "1   1       1   1 \n",
      "1   1 1 1 1 1   1 \n",
      "1               1 \n",
      "1 1 1 1 1 1 1 1 1 \n"
     ]
    }
   ],
   "source": [
    "for y in crange(-4, 4):\n",
    "    for x in crange(-4, 4):\n",
    "        n = 5 - max(abs(x),abs(y))\n",
    "        if n % 2 == 1:\n",
    "            n = n // 2 + 1\n",
    "            printnln(fib(n))\n",
    "        else:\n",
    "            printnln(\" \")\n",
    "    print()"
   ]
  },
  {
   "cell_type": "code",
   "execution_count": 62,
   "metadata": {},
   "outputs": [
    {
     "name": "stdout",
     "output_type": "stream",
     "text": [
      "1 1 1 1 1 1 1 1 1 \n",
      "1 A A A A A A A 1 \n",
      "1 A 1 1 1 1 1 A 1 \n",
      "1 A 1 B B B 1 A 1 \n",
      "1 A 1 B 2 B 1 A 1 \n",
      "1 A 1 B B B 1 A 1 \n",
      "1 A 1 1 1 1 1 A 1 \n",
      "1 A A A A A A A 1 \n",
      "1 1 1 1 1 1 1 1 1 \n"
     ]
    }
   ],
   "source": [
    "alpha = \"AB\"\n",
    "for y in crange(-4, 4):\n",
    "    for x in crange(-4, 4):\n",
    "        n = 5 - max(abs(x),abs(y))\n",
    "        if n % 2 == 1:\n",
    "            n = n // 2 + 1\n",
    "            printnln(fib(n))\n",
    "        else:\n",
    "            i = n // 2 - 1\n",
    "            printnln(alpha[i])\n",
    "    print()"
   ]
  },
  {
   "cell_type": "code",
   "execution_count": 2,
   "metadata": {},
   "outputs": [
    {
     "name": "stdout",
     "output_type": "stream",
     "text": [
      "_ _ _ _ 1 \n",
      "_ _ _ 1 2 3 \n",
      "_ _ 1 2 3 4 5 \n",
      "_ 1 2 3 4 5 6 7 \n",
      "1 2 3 4 5 6 7 8 9 \n"
     ]
    }
   ],
   "source": [
    "for y in crange(1, 5):\n",
    "    for s in crange(1, 5 -y):\n",
    "        printnln(\"_\")\n",
    "    for x in crange(1, ganjil(y)):\n",
    "        printnln(x)\n",
    "    print()"
   ]
  },
  {
   "cell_type": "code",
   "execution_count": 8,
   "metadata": {},
   "outputs": [
    {
     "name": "stdout",
     "output_type": "stream",
     "text": [
      "1 2 3 4 5 6 7 8 9 \n",
      "_ 1 2 3 4 5 6 7 \n",
      "_ _ 1 2 3 4 5 \n",
      "_ _ _ 1 2 3 \n",
      "_ _ _ _ 1 \n"
     ]
    }
   ],
   "source": [
    "for y in crange(1, 5):\n",
    "    for s in crange(1, y -1):\n",
    "        printnln(\"_\")\n",
    "    for x in crange(1, ganjil(6-y)):\n",
    "        printnln(x)\n",
    "    print()"
   ]
  },
  {
   "cell_type": "code",
   "execution_count": 9,
   "metadata": {},
   "outputs": [
    {
     "name": "stdout",
     "output_type": "stream",
     "text": [
      "_ _ _ _ 1 \n",
      "_ _ _ 1 2 3 \n",
      "_ _ 1 2 3 4 5 \n",
      "_ 1 2 3 4 5 6 7 \n",
      "1 2 3 4 5 6 7 8 9 \n",
      "_ 1 2 3 4 5 6 7 \n",
      "_ _ 1 2 3 4 5 \n",
      "_ _ _ 1 2 3 \n",
      "_ _ _ _ 1 \n"
     ]
    }
   ],
   "source": [
    "for y in crange(-4, 4):\n",
    "    for s in crange(1, abs(y)):\n",
    "        printnln(\"_\")\n",
    "    for x in crange(1, ganjil(5-abs(y))):\n",
    "        printnln(x)\n",
    "    print()"
   ]
  },
  {
   "cell_type": "code",
   "execution_count": 11,
   "metadata": {},
   "outputs": [
    {
     "name": "stdout",
     "output_type": "stream",
     "text": [
      "_ _ _ _ _ \n",
      "_ _ _ _ \n",
      "_ _ _ \n",
      "_ _ \n",
      "_ \n"
     ]
    }
   ],
   "source": [
    "for y in crange(1, 5):\n",
    "    for s in crange(1, 6 -y):\n",
    "        printnln(\"_\")\n",
    "    t = \n",
    "    n = pbound(t)\n",
    "    for x in crange(-n, n)\n",
    "    print()"
   ]
  },
  {
   "cell_type": "code",
   "execution_count": null,
   "metadata": {},
   "outputs": [],
   "source": []
  }
 ],
 "metadata": {
  "kernelspec": {
   "display_name": "Python 3",
   "language": "python",
   "name": "python3"
  },
  "language_info": {
   "codemirror_mode": {
    "name": "ipython",
    "version": 3
   },
   "file_extension": ".py",
   "mimetype": "text/x-python",
   "name": "python",
   "nbconvert_exporter": "python",
   "pygments_lexer": "ipython3",
   "version": "3.6.5"
  }
 },
 "nbformat": 4,
 "nbformat_minor": 2
}
